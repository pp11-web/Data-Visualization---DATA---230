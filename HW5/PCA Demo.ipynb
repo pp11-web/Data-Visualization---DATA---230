{
 "cells": [
  {
   "cell_type": "markdown",
   "id": "3c19f543",
   "metadata": {},
   "source": [
    "## PCA Demo\n"
   ]
  },
  {
   "cell_type": "code",
   "execution_count": 1,
   "id": "99b2d383",
   "metadata": {},
   "outputs": [],
   "source": [
    "import numpy as np\n",
    "import scipy.linalg as la"
   ]
  },
  {
   "cell_type": "code",
   "execution_count": 2,
   "id": "65f2fc82",
   "metadata": {},
   "outputs": [
    {
     "data": {
      "text/plain": [
       "array([[ 0.16666667,  0.08333333, -0.25      ,  0.25      ],\n",
       "       [ 0.08333333,  0.16666667,  0.        ,  0.        ],\n",
       "       [-0.25      ,  0.        ,  0.5       , -0.5       ],\n",
       "       [ 0.25      ,  0.        , -0.5       ,  0.5       ]])"
      ]
     },
     "execution_count": 2,
     "metadata": {},
     "output_type": "execute_result"
    }
   ],
   "source": [
    "#Generate a dummy dataset.\n",
    "X = np.array([[1,2,2], [1,2,1], [3,2,1], [1,2,3]])\n",
    "C_X = (1/2)*np.cov(X)\n",
    "\n",
    "C_X"
   ]
  },
  {
   "cell_type": "code",
   "execution_count": 6,
   "id": "eb727c9e",
   "metadata": {},
   "outputs": [
    {
     "name": "stdout",
     "output_type": "stream",
     "text": [
      "[ 1.13064703e+00+0.j  2.02686303e-01+0.j -2.10683520e-19+0.j\n",
      " -1.06021622e-16+0.j]\n",
      "[[-0.34646195  0.39075746  0.06182002 -0.8524843 ]\n",
      " [-0.02995064  0.90403804 -0.03091001  0.42624215]\n",
      " [ 0.66297326  0.12252312  0.72070147 -0.23244673]\n",
      " [-0.66297326 -0.12252312  0.68979146  0.19379542]]\n"
     ]
    }
   ],
   "source": [
    "eigenvalues, eigenvectors = la.eig(C_X)\n",
    "print(eigenvalues)\n",
    "\n",
    "print(eigenvectors)"
   ]
  },
  {
   "cell_type": "code",
   "execution_count": 12,
   "id": "d8573d78",
   "metadata": {},
   "outputs": [
    {
     "data": {
      "text/plain": [
       "0.05925355395640827"
      ]
     },
     "execution_count": 12,
     "metadata": {},
     "output_type": "execute_result"
    }
   ],
   "source": [
    "np.sum(eigenvectors[0]*eigenvectors[3])"
   ]
  },
  {
   "cell_type": "code",
   "execution_count": 9,
   "id": "55c93ca2",
   "metadata": {},
   "outputs": [
    {
     "data": {
      "text/plain": [
       "array([-0.66297326, -0.12252312,  0.68979146,  0.19379542])"
      ]
     },
     "execution_count": 9,
     "metadata": {},
     "output_type": "execute_result"
    }
   ],
   "source": [
    "eigenvectors[3]"
   ]
  },
  {
   "cell_type": "markdown",
   "id": "4c07ab75",
   "metadata": {},
   "source": [
    "### Principal components of X are the e-vectors of XX^T (P=[p_i])\n",
    "\n",
    "### The i-th diagonal value of C_Y is the varaince of X along p_i"
   ]
  }
 ],
 "metadata": {
  "kernelspec": {
   "display_name": "Python 3 (ipykernel)",
   "language": "python",
   "name": "python3"
  },
  "language_info": {
   "codemirror_mode": {
    "name": "ipython",
    "version": 3
   },
   "file_extension": ".py",
   "mimetype": "text/x-python",
   "name": "python",
   "nbconvert_exporter": "python",
   "pygments_lexer": "ipython3",
   "version": "3.9.12"
  }
 },
 "nbformat": 4,
 "nbformat_minor": 5
}
