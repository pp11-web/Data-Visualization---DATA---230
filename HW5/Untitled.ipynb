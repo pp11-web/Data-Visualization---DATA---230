{
 "cells": [
  {
   "cell_type": "code",
   "execution_count": 28,
   "id": "3fe594e9",
   "metadata": {},
   "outputs": [
    {
     "data": {
      "text/plain": [
       "array([[-0.5 ,  0.  ,  0.25],\n",
       "       [-0.5 ,  0.  , -0.75],\n",
       "       [ 1.5 ,  0.  , -0.75],\n",
       "       [-0.5 ,  0.  ,  1.25]])"
      ]
     },
     "execution_count": 28,
     "metadata": {},
     "output_type": "execute_result"
    }
   ],
   "source": [
    "import numpy as np\n",
    "\n",
    "# Given dataset\n",
    "X = np.array([[1, 2, 2], [1, 2, 1], [3, 2, 1], [1, 2, 3]])\n",
    "# Step 1: Calculate the mean vector\n",
    "mean_vector = np.mean(X, axis=0)\n",
    "\n",
    "# Step 2: Subtract the mean vector from each data point\n",
    "centered_data = X - mean_vector\n",
    "centered_data\n"
   ]
  },
  {
   "cell_type": "code",
   "execution_count": 29,
   "id": "ac32a96a",
   "metadata": {},
   "outputs": [
    {
     "data": {
      "text/plain": [
       "array([[-0.5 , -0.5 ,  1.5 , -0.5 ],\n",
       "       [ 0.  ,  0.  ,  0.  ,  0.  ],\n",
       "       [ 0.25, -0.75, -0.75,  1.25]])"
      ]
     },
     "execution_count": 29,
     "metadata": {},
     "output_type": "execute_result"
    }
   ],
   "source": [
    "# Step 3: Calculate the transpose of the centered data matrix\n",
    "centered_data_T = centered_data.T\n",
    "centered_data_T"
   ]
  },
  {
   "cell_type": "code",
   "execution_count": 30,
   "id": "52b905ec",
   "metadata": {},
   "outputs": [
    {
     "data": {
      "text/plain": [
       "array([[ 3.  ,  0.  , -1.5 ],\n",
       "       [ 0.  ,  0.  ,  0.  ],\n",
       "       [-1.5 ,  0.  ,  2.75]])"
      ]
     },
     "execution_count": 30,
     "metadata": {},
     "output_type": "execute_result"
    }
   ],
   "source": [
    "# Step 4: Multiply the centered data matrix by its transpose\n",
    "covariance_matrix = np.dot(centered_data_T, centered_data)\n",
    "covariance_matrix"
   ]
  },
  {
   "cell_type": "code",
   "execution_count": 31,
   "id": "4b916cc7",
   "metadata": {},
   "outputs": [
    {
     "data": {
      "text/plain": [
       "3"
      ]
     },
     "execution_count": 31,
     "metadata": {},
     "output_type": "execute_result"
    }
   ],
   "source": [
    "# Step 5: Divide the result by (n-1)\n",
    "n = X.shape[1]  # number of samples\n",
    "n"
   ]
  },
  {
   "cell_type": "code",
   "execution_count": 32,
   "id": "e748ae7c",
   "metadata": {},
   "outputs": [
    {
     "name": "stdout",
     "output_type": "stream",
     "text": [
      "Covariance Matrix normalized by (n-1):\n",
      "[[ 1.5    0.    -0.75 ]\n",
      " [ 0.     0.     0.   ]\n",
      " [-0.75   0.     1.375]]\n"
     ]
    }
   ],
   "source": [
    "covariance_matrix_normalized = covariance_matrix / (n - 1)\n",
    "\n",
    "print(\"Covariance Matrix normalized by (n-1):\")\n",
    "print(covariance_matrix_normalized)"
   ]
  },
  {
   "cell_type": "code",
   "execution_count": 34,
   "id": "5c19a87d",
   "metadata": {},
   "outputs": [],
   "source": [
    "# Eigen decomposition of the covariance matrix\n",
    "eigenvalues, eigenvectors = np.linalg.eig(covariance_matrix_normalized)"
   ]
  },
  {
   "cell_type": "code",
   "execution_count": 35,
   "id": "0dc58943",
   "metadata": {},
   "outputs": [
    {
     "data": {
      "text/plain": [
       "array([2.19009966, 0.68490034, 0.        ])"
      ]
     },
     "execution_count": 35,
     "metadata": {},
     "output_type": "execute_result"
    }
   ],
   "source": [
    "eigenvalues"
   ]
  },
  {
   "cell_type": "code",
   "execution_count": 36,
   "id": "14d6c1f8",
   "metadata": {},
   "outputs": [
    {
     "data": {
      "text/plain": [
       "array([[ 0.73588229,  0.67710949,  0.        ],\n",
       "       [ 0.        ,  0.        ,  1.        ],\n",
       "       [-0.67710949,  0.73588229,  0.        ]])"
      ]
     },
     "execution_count": 36,
     "metadata": {},
     "output_type": "execute_result"
    }
   ],
   "source": [
    "eigenvectors"
   ]
  },
  {
   "cell_type": "code",
   "execution_count": 37,
   "id": "1659e33a",
   "metadata": {},
   "outputs": [],
   "source": [
    "sorted_indices = np.argsort(eigenvalues)[::-1]\n",
    "eigenvalues = eigenvalues[sorted_indices]\n",
    "eigenvectors = eigenvectors[:, sorted_indices]"
   ]
  },
  {
   "cell_type": "code",
   "execution_count": 38,
   "id": "037c8147",
   "metadata": {},
   "outputs": [],
   "source": [
    "# Select first k eigenvectors (here, let's say k=2 for simplicity)\n",
    "k = 2\n",
    "projection_matrix = eigenvectors[:, :k]"
   ]
  },
  {
   "cell_type": "code",
   "execution_count": 39,
   "id": "795cb195",
   "metadata": {},
   "outputs": [
    {
     "data": {
      "text/plain": [
       "array([[ 0.73588229,  0.67710949],\n",
       "       [ 0.        ,  0.        ],\n",
       "       [-0.67710949,  0.73588229]])"
      ]
     },
     "execution_count": 39,
     "metadata": {},
     "output_type": "execute_result"
    }
   ],
   "source": [
    "projection_matrix"
   ]
  },
  {
   "cell_type": "code",
   "execution_count": 40,
   "id": "e6f33a4f",
   "metadata": {},
   "outputs": [],
   "source": [
    "principal_components = eigenvectors\n",
    "variances = eigenvalues"
   ]
  },
  {
   "cell_type": "code",
   "execution_count": 41,
   "id": "d351a4b6",
   "metadata": {},
   "outputs": [
    {
     "name": "stdout",
     "output_type": "stream",
     "text": [
      "\n",
      "Principal Components:\n",
      " [[ 0.73588229  0.67710949  0.        ]\n",
      " [ 0.          0.          1.        ]\n",
      " [-0.67710949  0.73588229  0.        ]]\n",
      "\n",
      "Variances:\n",
      " [2.19009966 0.68490034 0.        ]\n"
     ]
    }
   ],
   "source": [
    "print(\"\\nPrincipal Components:\\n\", principal_components)\n",
    "print(\"\\nVariances:\\n\", variances)"
   ]
  },
  {
   "cell_type": "code",
   "execution_count": null,
   "id": "896a2ef9",
   "metadata": {},
   "outputs": [],
   "source": []
  }
 ],
 "metadata": {
  "kernelspec": {
   "display_name": "Python 3 (ipykernel)",
   "language": "python",
   "name": "python3"
  },
  "language_info": {
   "codemirror_mode": {
    "name": "ipython",
    "version": 3
   },
   "file_extension": ".py",
   "mimetype": "text/x-python",
   "name": "python",
   "nbconvert_exporter": "python",
   "pygments_lexer": "ipython3",
   "version": "3.9.12"
  }
 },
 "nbformat": 4,
 "nbformat_minor": 5
}
