{
 "cells": [
  {
   "cell_type": "code",
   "execution_count": 1,
   "metadata": {},
   "outputs": [],
   "source": [
    "import pandas as pd\n",
    "import numpy as np\n",
    "np.random.seed(0)\n"
   ]
  },
  {
   "cell_type": "code",
   "execution_count": 2,
   "metadata": {},
   "outputs": [
    {
     "data": {
      "text/plain": [
       "'C:\\\\Teaching\\\\SJSU_DataVisualization\\\\CodeData'"
      ]
     },
     "execution_count": 2,
     "metadata": {},
     "output_type": "execute_result"
    }
   ],
   "source": [
    "pwd"
   ]
  },
  {
   "cell_type": "code",
   "execution_count": 3,
   "metadata": {},
   "outputs": [],
   "source": [
    "def reload_data(name='nobel_winners_dirty.json'):\n",
    "    df = pd.read_json(open(name))\n",
    "    return df"
   ]
  },
  {
   "cell_type": "code",
   "execution_count": 4,
   "metadata": {},
   "outputs": [],
   "source": [
    "#df = reload_data('nobel_winners_full.json')\n",
    "df = reload_data()"
   ]
  },
  {
   "cell_type": "code",
   "execution_count": 5,
   "metadata": {},
   "outputs": [
    {
     "name": "stdout",
     "output_type": "stream",
     "text": [
      "<class 'pandas.core.frame.DataFrame'>\n",
      "RangeIndex: 1052 entries, 0 to 1051\n",
      "Data columns (total 12 columns):\n",
      " #   Column          Non-Null Count  Dtype \n",
      "---  ------          --------------  ----- \n",
      " 0   born_in         1052 non-null   object\n",
      " 1   category        1052 non-null   object\n",
      " 2   country         1052 non-null   object\n",
      " 3   date_of_birth   1044 non-null   object\n",
      " 4   date_of_death   1044 non-null   object\n",
      " 5   gender          1040 non-null   object\n",
      " 6   link            1052 non-null   object\n",
      " 7   name            1052 non-null   object\n",
      " 8   place_of_birth  1044 non-null   object\n",
      " 9   place_of_death  1044 non-null   object\n",
      " 10  text            1052 non-null   object\n",
      " 11  year            1052 non-null   int64 \n",
      "dtypes: int64(1), object(11)\n",
      "memory usage: 98.8+ KB\n"
     ]
    }
   ],
   "source": [
    "df.info()"
   ]
  },
  {
   "cell_type": "code",
   "execution_count": 6,
   "metadata": {},
   "outputs": [
    {
     "data": {
      "text/html": [
       "<div>\n",
       "<style scoped>\n",
       "    .dataframe tbody tr th:only-of-type {\n",
       "        vertical-align: middle;\n",
       "    }\n",
       "\n",
       "    .dataframe tbody tr th {\n",
       "        vertical-align: top;\n",
       "    }\n",
       "\n",
       "    .dataframe thead th {\n",
       "        text-align: right;\n",
       "    }\n",
       "</style>\n",
       "<table border=\"1\" class=\"dataframe\">\n",
       "  <thead>\n",
       "    <tr style=\"text-align: right;\">\n",
       "      <th></th>\n",
       "      <th>year</th>\n",
       "    </tr>\n",
       "  </thead>\n",
       "  <tbody>\n",
       "    <tr>\n",
       "      <th>count</th>\n",
       "      <td>1052.000000</td>\n",
       "    </tr>\n",
       "    <tr>\n",
       "      <th>mean</th>\n",
       "      <td>1968.729087</td>\n",
       "    </tr>\n",
       "    <tr>\n",
       "      <th>std</th>\n",
       "      <td>33.155829</td>\n",
       "    </tr>\n",
       "    <tr>\n",
       "      <th>min</th>\n",
       "      <td>1809.000000</td>\n",
       "    </tr>\n",
       "    <tr>\n",
       "      <th>25%</th>\n",
       "      <td>1947.000000</td>\n",
       "    </tr>\n",
       "    <tr>\n",
       "      <th>50%</th>\n",
       "      <td>1975.000000</td>\n",
       "    </tr>\n",
       "    <tr>\n",
       "      <th>75%</th>\n",
       "      <td>1996.000000</td>\n",
       "    </tr>\n",
       "    <tr>\n",
       "      <th>max</th>\n",
       "      <td>2014.000000</td>\n",
       "    </tr>\n",
       "  </tbody>\n",
       "</table>\n",
       "</div>"
      ],
      "text/plain": [
       "              year\n",
       "count  1052.000000\n",
       "mean   1968.729087\n",
       "std      33.155829\n",
       "min    1809.000000\n",
       "25%    1947.000000\n",
       "50%    1975.000000\n",
       "75%    1996.000000\n",
       "max    2014.000000"
      ]
     },
     "execution_count": 6,
     "metadata": {},
     "output_type": "execute_result"
    }
   ],
   "source": [
    "df.describe()"
   ]
  },
  {
   "cell_type": "code",
   "execution_count": 7,
   "metadata": {},
   "outputs": [
    {
     "data": {
      "text/html": [
       "<div>\n",
       "<style scoped>\n",
       "    .dataframe tbody tr th:only-of-type {\n",
       "        vertical-align: middle;\n",
       "    }\n",
       "\n",
       "    .dataframe tbody tr th {\n",
       "        vertical-align: top;\n",
       "    }\n",
       "\n",
       "    .dataframe thead th {\n",
       "        text-align: right;\n",
       "    }\n",
       "</style>\n",
       "<table border=\"1\" class=\"dataframe\">\n",
       "  <thead>\n",
       "    <tr style=\"text-align: right;\">\n",
       "      <th></th>\n",
       "      <th>born_in</th>\n",
       "      <th>category</th>\n",
       "      <th>country</th>\n",
       "      <th>date_of_birth</th>\n",
       "      <th>date_of_death</th>\n",
       "      <th>gender</th>\n",
       "      <th>link</th>\n",
       "      <th>name</th>\n",
       "      <th>place_of_birth</th>\n",
       "      <th>place_of_death</th>\n",
       "      <th>text</th>\n",
       "    </tr>\n",
       "  </thead>\n",
       "  <tbody>\n",
       "    <tr>\n",
       "      <th>count</th>\n",
       "      <td>1052</td>\n",
       "      <td>1052</td>\n",
       "      <td>1052</td>\n",
       "      <td>1044</td>\n",
       "      <td>1044</td>\n",
       "      <td>1040</td>\n",
       "      <td>1052</td>\n",
       "      <td>1052</td>\n",
       "      <td>1044</td>\n",
       "      <td>1044</td>\n",
       "      <td>1052</td>\n",
       "    </tr>\n",
       "    <tr>\n",
       "      <th>unique</th>\n",
       "      <td>40</td>\n",
       "      <td>7</td>\n",
       "      <td>59</td>\n",
       "      <td>853</td>\n",
       "      <td>563</td>\n",
       "      <td>2</td>\n",
       "      <td>893</td>\n",
       "      <td>998</td>\n",
       "      <td>735</td>\n",
       "      <td>410</td>\n",
       "      <td>1043</td>\n",
       "    </tr>\n",
       "    <tr>\n",
       "      <th>top</th>\n",
       "      <td></td>\n",
       "      <td>Physiology or Medicine</td>\n",
       "      <td>United States</td>\n",
       "      <td>7 November 1867</td>\n",
       "      <td></td>\n",
       "      <td>male</td>\n",
       "      <td>http://en.wikipedia.org/wiki/Marie_Curie</td>\n",
       "      <td>Franco Modigliani</td>\n",
       "      <td></td>\n",
       "      <td></td>\n",
       "      <td>Czesław Miłosz *,  born in partitioned Poland ...</td>\n",
       "    </tr>\n",
       "    <tr>\n",
       "      <th>freq</th>\n",
       "      <td>910</td>\n",
       "      <td>250</td>\n",
       "      <td>350</td>\n",
       "      <td>4</td>\n",
       "      <td>362</td>\n",
       "      <td>982</td>\n",
       "      <td>4</td>\n",
       "      <td>2</td>\n",
       "      <td>29</td>\n",
       "      <td>409</td>\n",
       "      <td>2</td>\n",
       "    </tr>\n",
       "  </tbody>\n",
       "</table>\n",
       "</div>"
      ],
      "text/plain": [
       "       born_in                category        country    date_of_birth  \\\n",
       "count     1052                    1052           1052             1044   \n",
       "unique      40                       7             59              853   \n",
       "top             Physiology or Medicine  United States  7 November 1867   \n",
       "freq       910                     250            350                4   \n",
       "\n",
       "       date_of_death gender                                      link  \\\n",
       "count           1044   1040                                      1052   \n",
       "unique           563      2                                       893   \n",
       "top                    male  http://en.wikipedia.org/wiki/Marie_Curie   \n",
       "freq             362    982                                         4   \n",
       "\n",
       "                     name place_of_birth place_of_death  \\\n",
       "count                1052           1044           1044   \n",
       "unique                998            735            410   \n",
       "top     Franco Modigliani                                 \n",
       "freq                    2             29            409   \n",
       "\n",
       "                                                     text  \n",
       "count                                                1052  \n",
       "unique                                               1043  \n",
       "top     Czesław Miłosz *,  born in partitioned Poland ...  \n",
       "freq                                                    2  "
      ]
     },
     "execution_count": 7,
     "metadata": {},
     "output_type": "execute_result"
    }
   ],
   "source": [
    "df.describe(include=['object'])"
   ]
  },
  {
   "cell_type": "code",
   "execution_count": 8,
   "metadata": {},
   "outputs": [
    {
     "data": {
      "text/html": [
       "<div>\n",
       "<style scoped>\n",
       "    .dataframe tbody tr th:only-of-type {\n",
       "        vertical-align: middle;\n",
       "    }\n",
       "\n",
       "    .dataframe tbody tr th {\n",
       "        vertical-align: top;\n",
       "    }\n",
       "\n",
       "    .dataframe thead th {\n",
       "        text-align: right;\n",
       "    }\n",
       "</style>\n",
       "<table border=\"1\" class=\"dataframe\">\n",
       "  <thead>\n",
       "    <tr style=\"text-align: right;\">\n",
       "      <th></th>\n",
       "      <th>born_in</th>\n",
       "      <th>category</th>\n",
       "      <th>country</th>\n",
       "      <th>date_of_birth</th>\n",
       "      <th>date_of_death</th>\n",
       "      <th>gender</th>\n",
       "      <th>link</th>\n",
       "      <th>name</th>\n",
       "      <th>place_of_birth</th>\n",
       "      <th>place_of_death</th>\n",
       "      <th>text</th>\n",
       "      <th>year</th>\n",
       "    </tr>\n",
       "  </thead>\n",
       "  <tbody>\n",
       "    <tr>\n",
       "      <th>0</th>\n",
       "      <td></td>\n",
       "      <td>Physiology or Medicine</td>\n",
       "      <td>Argentina</td>\n",
       "      <td>8 October 1927</td>\n",
       "      <td>24 March 2002</td>\n",
       "      <td>male</td>\n",
       "      <td>http://en.wikipedia.org/wiki/C%C3%A9sar_Milstein</td>\n",
       "      <td>César Milstein</td>\n",
       "      <td>Bahía Blanca ,  Argentina</td>\n",
       "      <td>Cambridge , England</td>\n",
       "      <td>César Milstein , Physiology or Medicine, 1984</td>\n",
       "      <td>1984</td>\n",
       "    </tr>\n",
       "    <tr>\n",
       "      <th>1</th>\n",
       "      <td>Bosnia and Herzegovina</td>\n",
       "      <td>Literature</td>\n",
       "      <td></td>\n",
       "      <td>9 October 1892</td>\n",
       "      <td>13 March 1975</td>\n",
       "      <td>male</td>\n",
       "      <td>http://en.wikipedia.org/wiki/Ivo_Andric</td>\n",
       "      <td>Ivo Andric *</td>\n",
       "      <td>Dolac (village near Travnik), Austria-Hungary ...</td>\n",
       "      <td>Belgrade, SR Serbia, SFR Yugoslavia (present-d...</td>\n",
       "      <td>Ivo Andric *,  born in then  Austria–Hungary ,...</td>\n",
       "      <td>1961</td>\n",
       "    </tr>\n",
       "    <tr>\n",
       "      <th>2</th>\n",
       "      <td>Bosnia and Herzegovina</td>\n",
       "      <td>Chemistry</td>\n",
       "      <td></td>\n",
       "      <td>July 23, 1906</td>\n",
       "      <td>1998-01-07</td>\n",
       "      <td>male</td>\n",
       "      <td>http://en.wikipedia.org/wiki/Vladimir_Prelog</td>\n",
       "      <td>Vladimir Prelog *</td>\n",
       "      <td>Sarajevo ,  Bosnia and Herzegovina , then part...</td>\n",
       "      <td>Zürich ,  Switzerland</td>\n",
       "      <td>Vladimir Prelog *,  born in then  Austria–Hung...</td>\n",
       "      <td>1975</td>\n",
       "    </tr>\n",
       "    <tr>\n",
       "      <th>3</th>\n",
       "      <td></td>\n",
       "      <td>Peace</td>\n",
       "      <td>Belgium</td>\n",
       "      <td>None</td>\n",
       "      <td>None</td>\n",
       "      <td>None</td>\n",
       "      <td>http://en.wikipedia.org/wiki/Institut_de_Droit...</td>\n",
       "      <td>Institut de Droit International</td>\n",
       "      <td>None</td>\n",
       "      <td>None</td>\n",
       "      <td>Institut de Droit International , Peace, 1904</td>\n",
       "      <td>1904</td>\n",
       "    </tr>\n",
       "    <tr>\n",
       "      <th>4</th>\n",
       "      <td></td>\n",
       "      <td>Peace</td>\n",
       "      <td>Belgium</td>\n",
       "      <td>26 July 1829</td>\n",
       "      <td>6 October 1912</td>\n",
       "      <td>male</td>\n",
       "      <td>http://en.wikipedia.org/wiki/Auguste_Marie_Fra...</td>\n",
       "      <td>Auguste Beernaert</td>\n",
       "      <td>Ostend ,  Netherlands  (now  Belgium )</td>\n",
       "      <td>Lucerne ,  Switzerland</td>\n",
       "      <td>Auguste Beernaert , Peace, 1909</td>\n",
       "      <td>1909</td>\n",
       "    </tr>\n",
       "  </tbody>\n",
       "</table>\n",
       "</div>"
      ],
      "text/plain": [
       "                  born_in                category    country   date_of_birth  \\\n",
       "0                          Physiology or Medicine  Argentina  8 October 1927   \n",
       "1  Bosnia and Herzegovina              Literature             9 October 1892   \n",
       "2  Bosnia and Herzegovina               Chemistry              July 23, 1906   \n",
       "3                                           Peace    Belgium            None   \n",
       "4                                           Peace    Belgium    26 July 1829   \n",
       "\n",
       "    date_of_death gender                                               link  \\\n",
       "0   24 March 2002   male   http://en.wikipedia.org/wiki/C%C3%A9sar_Milstein   \n",
       "1   13 March 1975   male            http://en.wikipedia.org/wiki/Ivo_Andric   \n",
       "2      1998-01-07   male       http://en.wikipedia.org/wiki/Vladimir_Prelog   \n",
       "3            None   None  http://en.wikipedia.org/wiki/Institut_de_Droit...   \n",
       "4  6 October 1912   male  http://en.wikipedia.org/wiki/Auguste_Marie_Fra...   \n",
       "\n",
       "                              name  \\\n",
       "0                   César Milstein   \n",
       "1                     Ivo Andric *   \n",
       "2                Vladimir Prelog *   \n",
       "3  Institut de Droit International   \n",
       "4                Auguste Beernaert   \n",
       "\n",
       "                                      place_of_birth  \\\n",
       "0                          Bahía Blanca ,  Argentina   \n",
       "1  Dolac (village near Travnik), Austria-Hungary ...   \n",
       "2  Sarajevo ,  Bosnia and Herzegovina , then part...   \n",
       "3                                               None   \n",
       "4             Ostend ,  Netherlands  (now  Belgium )   \n",
       "\n",
       "                                      place_of_death  \\\n",
       "0                                Cambridge , England   \n",
       "1  Belgrade, SR Serbia, SFR Yugoslavia (present-d...   \n",
       "2                              Zürich ,  Switzerland   \n",
       "3                                               None   \n",
       "4                             Lucerne ,  Switzerland   \n",
       "\n",
       "                                                text  year  \n",
       "0      César Milstein , Physiology or Medicine, 1984  1984  \n",
       "1  Ivo Andric *,  born in then  Austria–Hungary ,...  1961  \n",
       "2  Vladimir Prelog *,  born in then  Austria–Hung...  1975  \n",
       "3      Institut de Droit International , Peace, 1904  1904  \n",
       "4                    Auguste Beernaert , Peace, 1909  1909  "
      ]
     },
     "execution_count": 8,
     "metadata": {},
     "output_type": "execute_result"
    }
   ],
   "source": [
    "df.head()"
   ]
  },
  {
   "cell_type": "code",
   "execution_count": 9,
   "metadata": {},
   "outputs": [
    {
     "data": {
      "text/plain": [
       "Index(['born_in', 'category', 'country', 'date_of_birth', 'date_of_death',\n",
       "       'gender', 'link', 'name', 'place_of_birth', 'place_of_death', 'text',\n",
       "       'year'],\n",
       "      dtype='object')"
      ]
     },
     "execution_count": 9,
     "metadata": {},
     "output_type": "execute_result"
    }
   ],
   "source": [
    "df.columns"
   ]
  },
  {
   "cell_type": "code",
   "execution_count": 10,
   "metadata": {
    "scrolled": true
   },
   "outputs": [
    {
     "data": {
      "text/html": [
       "<div>\n",
       "<style scoped>\n",
       "    .dataframe tbody tr th:only-of-type {\n",
       "        vertical-align: middle;\n",
       "    }\n",
       "\n",
       "    .dataframe tbody tr th {\n",
       "        vertical-align: top;\n",
       "    }\n",
       "\n",
       "    .dataframe thead th {\n",
       "        text-align: right;\n",
       "    }\n",
       "</style>\n",
       "<table border=\"1\" class=\"dataframe\">\n",
       "  <thead>\n",
       "    <tr style=\"text-align: right;\">\n",
       "      <th></th>\n",
       "      <th>born_in</th>\n",
       "      <th>category</th>\n",
       "      <th>country</th>\n",
       "      <th>date_of_birth</th>\n",
       "      <th>date_of_death</th>\n",
       "      <th>gender</th>\n",
       "      <th>link</th>\n",
       "      <th>place_of_birth</th>\n",
       "      <th>place_of_death</th>\n",
       "      <th>text</th>\n",
       "      <th>year</th>\n",
       "    </tr>\n",
       "    <tr>\n",
       "      <th>name</th>\n",
       "      <th></th>\n",
       "      <th></th>\n",
       "      <th></th>\n",
       "      <th></th>\n",
       "      <th></th>\n",
       "      <th></th>\n",
       "      <th></th>\n",
       "      <th></th>\n",
       "      <th></th>\n",
       "      <th></th>\n",
       "      <th></th>\n",
       "    </tr>\n",
       "  </thead>\n",
       "  <tbody>\n",
       "    <tr>\n",
       "      <th>César Milstein</th>\n",
       "      <td></td>\n",
       "      <td>Physiology or Medicine</td>\n",
       "      <td>Argentina</td>\n",
       "      <td>8 October 1927</td>\n",
       "      <td>24 March 2002</td>\n",
       "      <td>male</td>\n",
       "      <td>http://en.wikipedia.org/wiki/C%C3%A9sar_Milstein</td>\n",
       "      <td>Bahía Blanca ,  Argentina</td>\n",
       "      <td>Cambridge , England</td>\n",
       "      <td>César Milstein , Physiology or Medicine, 1984</td>\n",
       "      <td>1984</td>\n",
       "    </tr>\n",
       "    <tr>\n",
       "      <th>Ivo Andric *</th>\n",
       "      <td>Bosnia and Herzegovina</td>\n",
       "      <td>Literature</td>\n",
       "      <td></td>\n",
       "      <td>9 October 1892</td>\n",
       "      <td>13 March 1975</td>\n",
       "      <td>male</td>\n",
       "      <td>http://en.wikipedia.org/wiki/Ivo_Andric</td>\n",
       "      <td>Dolac (village near Travnik), Austria-Hungary ...</td>\n",
       "      <td>Belgrade, SR Serbia, SFR Yugoslavia (present-d...</td>\n",
       "      <td>Ivo Andric *,  born in then  Austria–Hungary ,...</td>\n",
       "      <td>1961</td>\n",
       "    </tr>\n",
       "  </tbody>\n",
       "</table>\n",
       "</div>"
      ],
      "text/plain": [
       "                               born_in                category    country  \\\n",
       "name                                                                        \n",
       "César Milstein                          Physiology or Medicine  Argentina   \n",
       "Ivo Andric *    Bosnia and Herzegovina              Literature              \n",
       "\n",
       "                 date_of_birth  date_of_death gender  \\\n",
       "name                                                   \n",
       "César Milstein  8 October 1927  24 March 2002   male   \n",
       "Ivo Andric *    9 October 1892  13 March 1975   male   \n",
       "\n",
       "                                                            link  \\\n",
       "name                                                               \n",
       "César Milstein  http://en.wikipedia.org/wiki/C%C3%A9sar_Milstein   \n",
       "Ivo Andric *             http://en.wikipedia.org/wiki/Ivo_Andric   \n",
       "\n",
       "                                                   place_of_birth  \\\n",
       "name                                                                \n",
       "César Milstein                          Bahía Blanca ,  Argentina   \n",
       "Ivo Andric *    Dolac (village near Travnik), Austria-Hungary ...   \n",
       "\n",
       "                                                   place_of_death  \\\n",
       "name                                                                \n",
       "César Milstein                                Cambridge , England   \n",
       "Ivo Andric *    Belgrade, SR Serbia, SFR Yugoslavia (present-d...   \n",
       "\n",
       "                                                             text  year  \n",
       "name                                                                     \n",
       "César Milstein      César Milstein , Physiology or Medicine, 1984  1984  \n",
       "Ivo Andric *    Ivo Andric *,  born in then  Austria–Hungary ,...  1961  "
      ]
     },
     "execution_count": 10,
     "metadata": {},
     "output_type": "execute_result"
    }
   ],
   "source": [
    "df = df.set_index('name')\n",
    "df.head(2)"
   ]
  },
  {
   "cell_type": "code",
   "execution_count": 61,
   "metadata": {},
   "outputs": [
    {
     "data": {
      "text/html": [
       "<div>\n",
       "<table border=\"1\" class=\"dataframe\">\n",
       "  <thead>\n",
       "    <tr style=\"text-align: right;\">\n",
       "      <th></th>\n",
       "      <th>name</th>\n",
       "      <th>born_in</th>\n",
       "      <th>category</th>\n",
       "      <th>country</th>\n",
       "      <th>date_of_birth</th>\n",
       "      <th>date_of_death</th>\n",
       "      <th>gender</th>\n",
       "      <th>link</th>\n",
       "      <th>place_of_birth</th>\n",
       "      <th>place_of_death</th>\n",
       "      <th>text</th>\n",
       "      <th>year</th>\n",
       "    </tr>\n",
       "  </thead>\n",
       "  <tbody>\n",
       "    <tr>\n",
       "      <th>0</th>\n",
       "      <td>César Milstein</td>\n",
       "      <td></td>\n",
       "      <td>Physiology or Medicine</td>\n",
       "      <td>Argentina</td>\n",
       "      <td>8 October 1927</td>\n",
       "      <td>24 March 2002</td>\n",
       "      <td>male</td>\n",
       "      <td>http://en.wikipedia.org/wiki/C%C3%A9sar_Milstein</td>\n",
       "      <td>Bahía Blanca ,  Argentina</td>\n",
       "      <td>Cambridge , England</td>\n",
       "      <td>César Milstein , Physiology or Medicine, 1984</td>\n",
       "      <td>1984</td>\n",
       "    </tr>\n",
       "    <tr>\n",
       "      <th>1</th>\n",
       "      <td>Ivo Andric *</td>\n",
       "      <td>Bosnia and Herzegovina</td>\n",
       "      <td>Literature</td>\n",
       "      <td></td>\n",
       "      <td>9 October 1892</td>\n",
       "      <td>13 March 1975</td>\n",
       "      <td>male</td>\n",
       "      <td>http://en.wikipedia.org/wiki/Ivo_Andric</td>\n",
       "      <td>Dolac (village near Travnik), Austria-Hungary ...</td>\n",
       "      <td>Belgrade, SR Serbia, SFR Yugoslavia (present-d...</td>\n",
       "      <td>Ivo Andric *,  born in then  Austria–Hungary ,...</td>\n",
       "      <td>1961</td>\n",
       "    </tr>\n",
       "  </tbody>\n",
       "</table>\n",
       "</div>"
      ],
      "text/plain": [
       "             name                 born_in                category    country  \\\n",
       "0  César Milstein                          Physiology or Medicine  Argentina   \n",
       "1    Ivo Andric *  Bosnia and Herzegovina              Literature              \n",
       "\n",
       "    date_of_birth  date_of_death gender  \\\n",
       "0  8 October 1927  24 March 2002   male   \n",
       "1  9 October 1892  13 March 1975   male   \n",
       "\n",
       "                                               link  \\\n",
       "0  http://en.wikipedia.org/wiki/C%C3%A9sar_Milstein   \n",
       "1           http://en.wikipedia.org/wiki/Ivo_Andric   \n",
       "\n",
       "                                      place_of_birth  \\\n",
       "0                          Bahía Blanca ,  Argentina   \n",
       "1  Dolac (village near Travnik), Austria-Hungary ...   \n",
       "\n",
       "                                      place_of_death  \\\n",
       "0                                Cambridge , England   \n",
       "1  Belgrade, SR Serbia, SFR Yugoslavia (present-d...   \n",
       "\n",
       "                                                text  year  \n",
       "0      César Milstein , Physiology or Medicine, 1984  1984  \n",
       "1  Ivo Andric *,  born in then  Austria–Hungary ,...  1961  "
      ]
     },
     "execution_count": 61,
     "metadata": {},
     "output_type": "execute_result"
    }
   ],
   "source": [
    "df.reset_index(inplace=True)\n",
    "df.head(2)"
   ]
  },
  {
   "cell_type": "markdown",
   "metadata": {},
   "source": [
    "## Reset Index Example\n",
    "\n",
    "https://stackoverflow.com/questions/58909624/what-is-the-use-of-reset-index-in-pandas"
   ]
  },
  {
   "cell_type": "code",
   "execution_count": 11,
   "metadata": {},
   "outputs": [
    {
     "data": {
      "text/plain": [
       "name\n",
       "César Milstein                                           \n",
       "Ivo Andric *                       Bosnia and Herzegovina\n",
       "Vladimir Prelog *                  Bosnia and Herzegovina\n",
       "Institut de Droit International                          \n",
       "Auguste Beernaert                                        \n",
       "                                            ...          \n",
       "Brian P. Schmidt                                         \n",
       "Carlos Saavedra Lamas                                    \n",
       "Bernardo Houssay                                         \n",
       "Luis Federico Leloir                                     \n",
       "Adolfo Pérez Esquivel                                    \n",
       "Name: born_in, Length: 1052, dtype: object"
      ]
     },
     "execution_count": 11,
     "metadata": {},
     "output_type": "execute_result"
    }
   ],
   "source": [
    "bi_col = df.born_in\n",
    "bi_col"
   ]
  },
  {
   "cell_type": "code",
   "execution_count": 12,
   "metadata": {},
   "outputs": [
    {
     "data": {
      "text/plain": [
       "pandas.core.series.Series"
      ]
     },
     "execution_count": 12,
     "metadata": {},
     "output_type": "execute_result"
    }
   ],
   "source": [
    "type(bi_col)"
   ]
  },
  {
   "cell_type": "code",
   "execution_count": 15,
   "metadata": {},
   "outputs": [
    {
     "data": {
      "text/plain": [
       "born_in                                                           \n",
       "category                                    Physiology or Medicine\n",
       "country                                                  Argentina\n",
       "date_of_birth                                       8 October 1927\n",
       "date_of_death                                        24 March 2002\n",
       "gender                                                        male\n",
       "link              http://en.wikipedia.org/wiki/C%C3%A9sar_Milstein\n",
       "place_of_birth                           Bahía Blanca ,  Argentina\n",
       "place_of_death                                 Cambridge , England\n",
       "text                 César Milstein , Physiology or Medicine, 1984\n",
       "year                                                          1984\n",
       "Name: César Milstein, dtype: object"
      ]
     },
     "execution_count": 15,
     "metadata": {},
     "output_type": "execute_result"
    }
   ],
   "source": [
    "df.iloc[0]"
   ]
  },
  {
   "cell_type": "code",
   "execution_count": 17,
   "metadata": {
    "scrolled": true
   },
   "outputs": [
    {
     "data": {
      "text/html": [
       "<div>\n",
       "<style scoped>\n",
       "    .dataframe tbody tr th:only-of-type {\n",
       "        vertical-align: middle;\n",
       "    }\n",
       "\n",
       "    .dataframe tbody tr th {\n",
       "        vertical-align: top;\n",
       "    }\n",
       "\n",
       "    .dataframe thead th {\n",
       "        text-align: right;\n",
       "    }\n",
       "</style>\n",
       "<table border=\"1\" class=\"dataframe\">\n",
       "  <thead>\n",
       "    <tr style=\"text-align: right;\">\n",
       "      <th></th>\n",
       "      <th>born_in</th>\n",
       "      <th>category</th>\n",
       "      <th>country</th>\n",
       "      <th>date_of_birth</th>\n",
       "      <th>date_of_death</th>\n",
       "      <th>gender</th>\n",
       "      <th>link</th>\n",
       "      <th>place_of_birth</th>\n",
       "      <th>place_of_death</th>\n",
       "      <th>text</th>\n",
       "      <th>year</th>\n",
       "    </tr>\n",
       "    <tr>\n",
       "      <th>name</th>\n",
       "      <th></th>\n",
       "      <th></th>\n",
       "      <th></th>\n",
       "      <th></th>\n",
       "      <th></th>\n",
       "      <th></th>\n",
       "      <th></th>\n",
       "      <th></th>\n",
       "      <th></th>\n",
       "      <th></th>\n",
       "      <th></th>\n",
       "    </tr>\n",
       "  </thead>\n",
       "  <tbody>\n",
       "    <tr>\n",
       "      <th>Albert Einstein</th>\n",
       "      <td></td>\n",
       "      <td>Physics</td>\n",
       "      <td>Switzerland</td>\n",
       "      <td>1879-03-14</td>\n",
       "      <td>1955-04-18</td>\n",
       "      <td>male</td>\n",
       "      <td>http://en.wikipedia.org/wiki/Albert_Einstein</td>\n",
       "      <td>Ulm ,  Baden-Württemberg , German Empire</td>\n",
       "      <td>Princeton, New Jersey , U.S.</td>\n",
       "      <td>Albert Einstein ,  born in Germany , Physics, ...</td>\n",
       "      <td>1921</td>\n",
       "    </tr>\n",
       "    <tr>\n",
       "      <th>Albert Einstein</th>\n",
       "      <td></td>\n",
       "      <td>Physics</td>\n",
       "      <td>Germany</td>\n",
       "      <td>1879-03-14</td>\n",
       "      <td>1955-04-18</td>\n",
       "      <td>male</td>\n",
       "      <td>http://en.wikipedia.org/wiki/Albert_Einstein</td>\n",
       "      <td>Ulm ,  Baden-Württemberg , German Empire</td>\n",
       "      <td>Princeton, New Jersey , U.S.</td>\n",
       "      <td>Albert Einstein , Physics, 1921</td>\n",
       "      <td>1921</td>\n",
       "    </tr>\n",
       "  </tbody>\n",
       "</table>\n",
       "</div>"
      ],
      "text/plain": [
       "                born_in category      country date_of_birth date_of_death  \\\n",
       "name                                                                        \n",
       "Albert Einstein          Physics  Switzerland    1879-03-14    1955-04-18   \n",
       "Albert Einstein          Physics      Germany    1879-03-14    1955-04-18   \n",
       "\n",
       "                gender                                          link  \\\n",
       "name                                                                   \n",
       "Albert Einstein   male  http://en.wikipedia.org/wiki/Albert_Einstein   \n",
       "Albert Einstein   male  http://en.wikipedia.org/wiki/Albert_Einstein   \n",
       "\n",
       "                                           place_of_birth  \\\n",
       "name                                                        \n",
       "Albert Einstein  Ulm ,  Baden-Württemberg , German Empire   \n",
       "Albert Einstein  Ulm ,  Baden-Württemberg , German Empire   \n",
       "\n",
       "                               place_of_death  \\\n",
       "name                                            \n",
       "Albert Einstein  Princeton, New Jersey , U.S.   \n",
       "Albert Einstein  Princeton, New Jersey , U.S.   \n",
       "\n",
       "                                                              text  year  \n",
       "name                                                                      \n",
       "Albert Einstein  Albert Einstein ,  born in Germany , Physics, ...  1921  \n",
       "Albert Einstein                    Albert Einstein , Physics, 1921  1921  "
      ]
     },
     "execution_count": 17,
     "metadata": {},
     "output_type": "execute_result"
    }
   ],
   "source": [
    "#df.set_index('name', inplace=True)\n",
    "df.loc['Albert Einstein']"
   ]
  },
  {
   "cell_type": "code",
   "execution_count": 18,
   "metadata": {},
   "outputs": [],
   "source": [
    "df.reset_index(inplace=True)"
   ]
  },
  {
   "cell_type": "code",
   "execution_count": 19,
   "metadata": {},
   "outputs": [
    {
     "data": {
      "text/plain": [
       "name              202\n",
       "born_in           202\n",
       "category          202\n",
       "country           202\n",
       "date_of_birth     201\n",
       "date_of_death     201\n",
       "gender            200\n",
       "link              202\n",
       "place_of_birth    201\n",
       "place_of_death    201\n",
       "text              202\n",
       "year              202\n",
       "dtype: int64"
      ]
     },
     "execution_count": 19,
     "metadata": {},
     "output_type": "execute_result"
    }
   ],
   "source": [
    "mask = df.year > 2000\n",
    "winners_since_2000 = df[mask]\n",
    "winners_since_2000.count()"
   ]
  },
  {
   "cell_type": "code",
   "execution_count": 20,
   "metadata": {},
   "outputs": [
    {
     "data": {
      "text/html": [
       "<div>\n",
       "<style scoped>\n",
       "    .dataframe tbody tr th:only-of-type {\n",
       "        vertical-align: middle;\n",
       "    }\n",
       "\n",
       "    .dataframe tbody tr th {\n",
       "        vertical-align: top;\n",
       "    }\n",
       "\n",
       "    .dataframe thead th {\n",
       "        text-align: right;\n",
       "    }\n",
       "</style>\n",
       "<table border=\"1\" class=\"dataframe\">\n",
       "  <thead>\n",
       "    <tr style=\"text-align: right;\">\n",
       "      <th></th>\n",
       "      <th>name</th>\n",
       "      <th>born_in</th>\n",
       "      <th>category</th>\n",
       "      <th>country</th>\n",
       "      <th>date_of_birth</th>\n",
       "      <th>date_of_death</th>\n",
       "      <th>gender</th>\n",
       "      <th>link</th>\n",
       "      <th>place_of_birth</th>\n",
       "      <th>place_of_death</th>\n",
       "      <th>text</th>\n",
       "      <th>year</th>\n",
       "    </tr>\n",
       "  </thead>\n",
       "  <tbody>\n",
       "    <tr>\n",
       "      <th>13</th>\n",
       "      <td>François Englert</td>\n",
       "      <td></td>\n",
       "      <td>Physics</td>\n",
       "      <td>Belgium</td>\n",
       "      <td>6 November 1932</td>\n",
       "      <td></td>\n",
       "      <td>male</td>\n",
       "      <td>http://en.wikipedia.org/wiki/Fran%C3%A7ois_Eng...</td>\n",
       "      <td>Etterbeek ,  Brussels ,  Belgium</td>\n",
       "      <td></td>\n",
       "      <td>François Englert , Physics, 2013</td>\n",
       "      <td>2013</td>\n",
       "    </tr>\n",
       "    <tr>\n",
       "      <th>32</th>\n",
       "      <td>Christopher A. Pissarides</td>\n",
       "      <td></td>\n",
       "      <td>Economics</td>\n",
       "      <td>Cyprus</td>\n",
       "      <td>1948-02-20</td>\n",
       "      <td></td>\n",
       "      <td>male</td>\n",
       "      <td>http://en.wikipedia.org/wiki/Christopher_A._Pi...</td>\n",
       "      <td>Nicosia, Cyprus</td>\n",
       "      <td></td>\n",
       "      <td>Christopher A. Pissarides , Economics, 2010</td>\n",
       "      <td>2010</td>\n",
       "    </tr>\n",
       "    <tr>\n",
       "      <th>66</th>\n",
       "      <td>Kofi Annan</td>\n",
       "      <td></td>\n",
       "      <td>Peace</td>\n",
       "      <td>Ghana</td>\n",
       "      <td>8 April 1938</td>\n",
       "      <td></td>\n",
       "      <td>male</td>\n",
       "      <td>http://en.wikipedia.org/wiki/Kofi_Annan</td>\n",
       "      <td>Kumasi , Ghana</td>\n",
       "      <td></td>\n",
       "      <td>Kofi Annan , Peace, 2001</td>\n",
       "      <td>2001</td>\n",
       "    </tr>\n",
       "    <tr>\n",
       "      <th>87</th>\n",
       "      <td>Riccardo Giacconi *</td>\n",
       "      <td>Italy</td>\n",
       "      <td>Physics</td>\n",
       "      <td></td>\n",
       "      <td>October 6, 1931</td>\n",
       "      <td></td>\n",
       "      <td>male</td>\n",
       "      <td>http://en.wikipedia.org/wiki/Riccardo_Giacconi</td>\n",
       "      <td>Genoa ,  Italy</td>\n",
       "      <td></td>\n",
       "      <td>Riccardo Giacconi *, Physics, 2002</td>\n",
       "      <td>2002</td>\n",
       "    </tr>\n",
       "    <tr>\n",
       "      <th>88</th>\n",
       "      <td>Mario Capecchi *</td>\n",
       "      <td>Italy</td>\n",
       "      <td>Physiology or Medicine</td>\n",
       "      <td></td>\n",
       "      <td>6 October 1937</td>\n",
       "      <td></td>\n",
       "      <td>male</td>\n",
       "      <td>http://en.wikipedia.org/wiki/Mario_Capecchi</td>\n",
       "      <td>Verona ,  Italy</td>\n",
       "      <td></td>\n",
       "      <td>Mario Capecchi *, Physiology or Medicine, 2007</td>\n",
       "      <td>2007</td>\n",
       "    </tr>\n",
       "  </tbody>\n",
       "</table>\n",
       "</div>"
      ],
      "text/plain": [
       "                         name born_in                category  country  \\\n",
       "13           François Englert                         Physics  Belgium   \n",
       "32  Christopher A. Pissarides                       Economics   Cyprus   \n",
       "66                 Kofi Annan                           Peace    Ghana   \n",
       "87        Riccardo Giacconi *   Italy                 Physics            \n",
       "88           Mario Capecchi *   Italy  Physiology or Medicine            \n",
       "\n",
       "      date_of_birth date_of_death gender  \\\n",
       "13  6 November 1932                 male   \n",
       "32       1948-02-20                 male   \n",
       "66     8 April 1938                 male   \n",
       "87  October 6, 1931                 male   \n",
       "88   6 October 1937                 male   \n",
       "\n",
       "                                                 link  \\\n",
       "13  http://en.wikipedia.org/wiki/Fran%C3%A7ois_Eng...   \n",
       "32  http://en.wikipedia.org/wiki/Christopher_A._Pi...   \n",
       "66            http://en.wikipedia.org/wiki/Kofi_Annan   \n",
       "87     http://en.wikipedia.org/wiki/Riccardo_Giacconi   \n",
       "88        http://en.wikipedia.org/wiki/Mario_Capecchi   \n",
       "\n",
       "                      place_of_birth place_of_death  \\\n",
       "13  Etterbeek ,  Brussels ,  Belgium                  \n",
       "32                   Nicosia, Cyprus                  \n",
       "66                    Kumasi , Ghana                  \n",
       "87                    Genoa ,  Italy                  \n",
       "88                   Verona ,  Italy                  \n",
       "\n",
       "                                              text  year  \n",
       "13                François Englert , Physics, 2013  2013  \n",
       "32     Christopher A. Pissarides , Economics, 2010  2010  \n",
       "66                        Kofi Annan , Peace, 2001  2001  \n",
       "87              Riccardo Giacconi *, Physics, 2002  2002  \n",
       "88  Mario Capecchi *, Physiology or Medicine, 2007  2007  "
      ]
     },
     "execution_count": 20,
     "metadata": {},
     "output_type": "execute_result"
    }
   ],
   "source": [
    "winners_since_2000.head()"
   ]
  },
  {
   "cell_type": "code",
   "execution_count": 21,
   "metadata": {},
   "outputs": [
    {
     "data": {
      "text/plain": [
       "{str}"
      ]
     },
     "execution_count": 21,
     "metadata": {},
     "output_type": "execute_result"
    }
   ],
   "source": [
    "set(df.born_in.apply(type))"
   ]
  },
  {
   "cell_type": "code",
   "execution_count": 22,
   "metadata": {},
   "outputs": [
    {
     "data": {
      "text/plain": [
       "name\n",
       "César Milstein                                        NaN\n",
       "Ivo Andric *                       Bosnia and Herzegovina\n",
       "Vladimir Prelog *                  Bosnia and Herzegovina\n",
       "Institut de Droit International                       NaN\n",
       "Auguste Beernaert                                     NaN\n",
       "                                            ...          \n",
       "Brian P. Schmidt                                      NaN\n",
       "Carlos Saavedra Lamas                                 NaN\n",
       "Bernardo Houssay                                      NaN\n",
       "Luis Federico Leloir                                  NaN\n",
       "Adolfo Pérez Esquivel                                 NaN\n",
       "Name: born_in, Length: 1052, dtype: object"
      ]
     },
     "execution_count": 22,
     "metadata": {},
     "output_type": "execute_result"
    }
   ],
   "source": [
    "bi_col.replace('', np.nan, inplace=True)\n",
    "bi_col"
   ]
  },
  {
   "cell_type": "code",
   "execution_count": 23,
   "metadata": {},
   "outputs": [
    {
     "data": {
      "text/plain": [
       "142"
      ]
     },
     "execution_count": 23,
     "metadata": {},
     "output_type": "execute_result"
    }
   ],
   "source": [
    "bi_col.count()"
   ]
  },
  {
   "cell_type": "code",
   "execution_count": 24,
   "metadata": {},
   "outputs": [],
   "source": [
    "df.replace('', np.nan, inplace=True)"
   ]
  },
  {
   "cell_type": "code",
   "execution_count": 25,
   "metadata": {},
   "outputs": [
    {
     "data": {
      "text/html": [
       "<div>\n",
       "<style scoped>\n",
       "    .dataframe tbody tr th:only-of-type {\n",
       "        vertical-align: middle;\n",
       "    }\n",
       "\n",
       "    .dataframe tbody tr th {\n",
       "        vertical-align: top;\n",
       "    }\n",
       "\n",
       "    .dataframe thead th {\n",
       "        text-align: right;\n",
       "    }\n",
       "</style>\n",
       "<table border=\"1\" class=\"dataframe\">\n",
       "  <thead>\n",
       "    <tr style=\"text-align: right;\">\n",
       "      <th></th>\n",
       "      <th>name</th>\n",
       "      <th>born_in</th>\n",
       "      <th>category</th>\n",
       "      <th>country</th>\n",
       "      <th>date_of_birth</th>\n",
       "      <th>date_of_death</th>\n",
       "      <th>gender</th>\n",
       "      <th>link</th>\n",
       "      <th>place_of_birth</th>\n",
       "      <th>place_of_death</th>\n",
       "      <th>text</th>\n",
       "      <th>year</th>\n",
       "    </tr>\n",
       "  </thead>\n",
       "  <tbody>\n",
       "    <tr>\n",
       "      <th>0</th>\n",
       "      <td>César Milstein</td>\n",
       "      <td>NaN</td>\n",
       "      <td>Physiology or Medicine</td>\n",
       "      <td>Argentina</td>\n",
       "      <td>8 October 1927</td>\n",
       "      <td>24 March 2002</td>\n",
       "      <td>male</td>\n",
       "      <td>http://en.wikipedia.org/wiki/C%C3%A9sar_Milstein</td>\n",
       "      <td>Bahía Blanca ,  Argentina</td>\n",
       "      <td>Cambridge , England</td>\n",
       "      <td>César Milstein , Physiology or Medicine, 1984</td>\n",
       "      <td>1984</td>\n",
       "    </tr>\n",
       "    <tr>\n",
       "      <th>1</th>\n",
       "      <td>Ivo Andric *</td>\n",
       "      <td>Bosnia and Herzegovina</td>\n",
       "      <td>Literature</td>\n",
       "      <td>NaN</td>\n",
       "      <td>9 October 1892</td>\n",
       "      <td>13 March 1975</td>\n",
       "      <td>male</td>\n",
       "      <td>http://en.wikipedia.org/wiki/Ivo_Andric</td>\n",
       "      <td>Dolac (village near Travnik), Austria-Hungary ...</td>\n",
       "      <td>Belgrade, SR Serbia, SFR Yugoslavia (present-d...</td>\n",
       "      <td>Ivo Andric *,  born in then  Austria–Hungary ,...</td>\n",
       "      <td>1961</td>\n",
       "    </tr>\n",
       "    <tr>\n",
       "      <th>2</th>\n",
       "      <td>Vladimir Prelog *</td>\n",
       "      <td>Bosnia and Herzegovina</td>\n",
       "      <td>Chemistry</td>\n",
       "      <td>NaN</td>\n",
       "      <td>July 23, 1906</td>\n",
       "      <td>1998-01-07</td>\n",
       "      <td>male</td>\n",
       "      <td>http://en.wikipedia.org/wiki/Vladimir_Prelog</td>\n",
       "      <td>Sarajevo ,  Bosnia and Herzegovina , then part...</td>\n",
       "      <td>Zürich ,  Switzerland</td>\n",
       "      <td>Vladimir Prelog *,  born in then  Austria–Hung...</td>\n",
       "      <td>1975</td>\n",
       "    </tr>\n",
       "    <tr>\n",
       "      <th>3</th>\n",
       "      <td>Institut de Droit International</td>\n",
       "      <td>NaN</td>\n",
       "      <td>Peace</td>\n",
       "      <td>Belgium</td>\n",
       "      <td>None</td>\n",
       "      <td>None</td>\n",
       "      <td>None</td>\n",
       "      <td>http://en.wikipedia.org/wiki/Institut_de_Droit...</td>\n",
       "      <td>None</td>\n",
       "      <td>None</td>\n",
       "      <td>Institut de Droit International , Peace, 1904</td>\n",
       "      <td>1904</td>\n",
       "    </tr>\n",
       "    <tr>\n",
       "      <th>4</th>\n",
       "      <td>Auguste Beernaert</td>\n",
       "      <td>NaN</td>\n",
       "      <td>Peace</td>\n",
       "      <td>Belgium</td>\n",
       "      <td>26 July 1829</td>\n",
       "      <td>6 October 1912</td>\n",
       "      <td>male</td>\n",
       "      <td>http://en.wikipedia.org/wiki/Auguste_Marie_Fra...</td>\n",
       "      <td>Ostend ,  Netherlands  (now  Belgium )</td>\n",
       "      <td>Lucerne ,  Switzerland</td>\n",
       "      <td>Auguste Beernaert , Peace, 1909</td>\n",
       "      <td>1909</td>\n",
       "    </tr>\n",
       "  </tbody>\n",
       "</table>\n",
       "</div>"
      ],
      "text/plain": [
       "                              name                 born_in  \\\n",
       "0                   César Milstein                     NaN   \n",
       "1                     Ivo Andric *  Bosnia and Herzegovina   \n",
       "2                Vladimir Prelog *  Bosnia and Herzegovina   \n",
       "3  Institut de Droit International                     NaN   \n",
       "4                Auguste Beernaert                     NaN   \n",
       "\n",
       "                 category    country   date_of_birth   date_of_death gender  \\\n",
       "0  Physiology or Medicine  Argentina  8 October 1927   24 March 2002   male   \n",
       "1              Literature        NaN  9 October 1892   13 March 1975   male   \n",
       "2               Chemistry        NaN   July 23, 1906      1998-01-07   male   \n",
       "3                   Peace    Belgium            None            None   None   \n",
       "4                   Peace    Belgium    26 July 1829  6 October 1912   male   \n",
       "\n",
       "                                                link  \\\n",
       "0   http://en.wikipedia.org/wiki/C%C3%A9sar_Milstein   \n",
       "1            http://en.wikipedia.org/wiki/Ivo_Andric   \n",
       "2       http://en.wikipedia.org/wiki/Vladimir_Prelog   \n",
       "3  http://en.wikipedia.org/wiki/Institut_de_Droit...   \n",
       "4  http://en.wikipedia.org/wiki/Auguste_Marie_Fra...   \n",
       "\n",
       "                                      place_of_birth  \\\n",
       "0                          Bahía Blanca ,  Argentina   \n",
       "1  Dolac (village near Travnik), Austria-Hungary ...   \n",
       "2  Sarajevo ,  Bosnia and Herzegovina , then part...   \n",
       "3                                               None   \n",
       "4             Ostend ,  Netherlands  (now  Belgium )   \n",
       "\n",
       "                                      place_of_death  \\\n",
       "0                                Cambridge , England   \n",
       "1  Belgrade, SR Serbia, SFR Yugoslavia (present-d...   \n",
       "2                              Zürich ,  Switzerland   \n",
       "3                                               None   \n",
       "4                             Lucerne ,  Switzerland   \n",
       "\n",
       "                                                text  year  \n",
       "0      César Milstein , Physiology or Medicine, 1984  1984  \n",
       "1  Ivo Andric *,  born in then  Austria–Hungary ,...  1961  \n",
       "2  Vladimir Prelog *,  born in then  Austria–Hung...  1975  \n",
       "3      Institut de Droit International , Peace, 1904  1904  \n",
       "4                    Auguste Beernaert , Peace, 1909  1909  "
      ]
     },
     "execution_count": 25,
     "metadata": {},
     "output_type": "execute_result"
    }
   ],
   "source": [
    "df.head()"
   ]
  },
  {
   "cell_type": "code",
   "execution_count": 26,
   "metadata": {},
   "outputs": [
    {
     "data": {
      "text/plain": [
       "1                   Ivo Andric *\n",
       "2              Vladimir Prelog *\n",
       "14               Simon Kuznets *\n",
       "15              Menachem Begin *\n",
       "16                Shimon Peres *\n",
       "                  ...           \n",
       "1034            Martin Karplus *\n",
       "1035    William Lawrence Bragg *\n",
       "1039    Aleksandr M. Prokhorov *\n",
       "1041     John Warcup Cornforth *\n",
       "1046    Elizabeth H. Blackburn *\n",
       "Name: name, Length: 142, dtype: object"
      ]
     },
     "execution_count": 26,
     "metadata": {},
     "output_type": "execute_result"
    }
   ],
   "source": [
    "df[df.name.str.contains('\\*')]['name']"
   ]
  },
  {
   "cell_type": "code",
   "execution_count": 29,
   "metadata": {},
   "outputs": [
    {
     "name": "stderr",
     "output_type": "stream",
     "text": [
      "<ipython-input-29-49c8f4d6188e>:1: FutureWarning: The default value of regex will change from True to False in a future version. In addition, single character regular expressions will*not* be treated as literal strings when regex=True.\n",
      "  df.name = df.name.str.replace('*', '')\n"
     ]
    }
   ],
   "source": [
    "df.name = df.name.str.replace('*', '')\n",
    "df.name = df.name.str.strip()"
   ]
  },
  {
   "cell_type": "code",
   "execution_count": 30,
   "metadata": {},
   "outputs": [
    {
     "data": {
      "text/html": [
       "<div>\n",
       "<style scoped>\n",
       "    .dataframe tbody tr th:only-of-type {\n",
       "        vertical-align: middle;\n",
       "    }\n",
       "\n",
       "    .dataframe tbody tr th {\n",
       "        vertical-align: top;\n",
       "    }\n",
       "\n",
       "    .dataframe thead th {\n",
       "        text-align: right;\n",
       "    }\n",
       "</style>\n",
       "<table border=\"1\" class=\"dataframe\">\n",
       "  <thead>\n",
       "    <tr style=\"text-align: right;\">\n",
       "      <th></th>\n",
       "      <th>name</th>\n",
       "      <th>born_in</th>\n",
       "      <th>category</th>\n",
       "      <th>country</th>\n",
       "      <th>date_of_birth</th>\n",
       "      <th>date_of_death</th>\n",
       "      <th>gender</th>\n",
       "      <th>link</th>\n",
       "      <th>place_of_birth</th>\n",
       "      <th>place_of_death</th>\n",
       "      <th>text</th>\n",
       "      <th>year</th>\n",
       "    </tr>\n",
       "  </thead>\n",
       "  <tbody>\n",
       "  </tbody>\n",
       "</table>\n",
       "</div>"
      ],
      "text/plain": [
       "Empty DataFrame\n",
       "Columns: [name, born_in, category, country, date_of_birth, date_of_death, gender, link, place_of_birth, place_of_death, text, year]\n",
       "Index: []"
      ]
     },
     "execution_count": 30,
     "metadata": {},
     "output_type": "execute_result"
    }
   ],
   "source": [
    "df[df.name.str.contains('\\*')]"
   ]
  },
  {
   "cell_type": "code",
   "execution_count": 31,
   "metadata": {},
   "outputs": [
    {
     "data": {
      "text/plain": [
       "False"
      ]
     },
     "execution_count": 31,
     "metadata": {},
     "output_type": "execute_result"
    }
   ],
   "source": [
    "np.nan == np.nan"
   ]
  },
  {
   "cell_type": "code",
   "execution_count": 32,
   "metadata": {},
   "outputs": [
    {
     "data": {
      "text/plain": [
       "name              910\n",
       "born_in             0\n",
       "category          909\n",
       "country           910\n",
       "date_of_birth     901\n",
       "date_of_death     589\n",
       "gender            900\n",
       "link              910\n",
       "place_of_birth    875\n",
       "place_of_death    546\n",
       "text              910\n",
       "year              910\n",
       "dtype: int64"
      ]
     },
     "execution_count": 32,
     "metadata": {},
     "output_type": "execute_result"
    }
   ],
   "source": [
    "df = df[df.born_in.isnull()]\n",
    "df.count()"
   ]
  },
  {
   "cell_type": "code",
   "execution_count": 33,
   "metadata": {},
   "outputs": [],
   "source": [
    "df = df.drop('born_in', axis=1)"
   ]
  },
  {
   "cell_type": "code",
   "execution_count": 34,
   "metadata": {},
   "outputs": [
    {
     "data": {
      "text/plain": [
       "name              46\n",
       "category          46\n",
       "country           46\n",
       "date_of_birth     45\n",
       "date_of_death     24\n",
       "gender            44\n",
       "link              46\n",
       "place_of_birth    45\n",
       "place_of_death    23\n",
       "text              46\n",
       "year              46\n",
       "dtype: int64"
      ]
     },
     "execution_count": 34,
     "metadata": {},
     "output_type": "execute_result"
    }
   ],
   "source": [
    "dupes_by_name = df[df.duplicated('name')]\n",
    "dupes_by_name.count()"
   ]
  },
  {
   "cell_type": "code",
   "execution_count": 35,
   "metadata": {},
   "outputs": [
    {
     "data": {
      "text/plain": [
       "name              92\n",
       "category          92\n",
       "country           92\n",
       "date_of_birth     90\n",
       "date_of_death     48\n",
       "gender            88\n",
       "link              92\n",
       "place_of_birth    90\n",
       "place_of_death    46\n",
       "text              92\n",
       "year              92\n",
       "dtype: int64"
      ]
     },
     "execution_count": 35,
     "metadata": {},
     "output_type": "execute_result"
    }
   ],
   "source": [
    "all_dupes = df[df.duplicated('name')\\\n",
    "| df.duplicated('name', keep='last')]\n",
    "all_dupes.count()"
   ]
  },
  {
   "cell_type": "code",
   "execution_count": 36,
   "metadata": {},
   "outputs": [
    {
     "data": {
      "text/plain": [
       "name              92\n",
       "category          92\n",
       "country           92\n",
       "date_of_birth     90\n",
       "date_of_death     48\n",
       "gender            88\n",
       "link              92\n",
       "place_of_birth    90\n",
       "place_of_death    46\n",
       "text              92\n",
       "year              92\n",
       "dtype: int64"
      ]
     },
     "execution_count": 36,
     "metadata": {},
     "output_type": "execute_result"
    }
   ],
   "source": [
    "all_dupes = df[df.name.isin(dupes_by_name.name)]\n",
    "all_dupes.count()"
   ]
  },
  {
   "cell_type": "code",
   "execution_count": 37,
   "metadata": {},
   "outputs": [
    {
     "data": {
      "text/plain": [
       "121          Aaron Klug\n",
       "131          Aaron Klug\n",
       "615     Albert Einstein\n",
       "844     Albert Einstein\n",
       "176       Arieh Warshel\n",
       "             ...       \n",
       "975       Tsung-Dao Lee\n",
       "333    Wassily Leontief\n",
       "684    Wassily Leontief\n",
       "489      Yoichiro Nambu\n",
       "773      Yoichiro Nambu\n",
       "Name: name, Length: 92, dtype: object"
      ]
     },
     "execution_count": 37,
     "metadata": {},
     "output_type": "execute_result"
    }
   ],
   "source": [
    "pd.concat([g for _,g in df.groupby('name')\\\n",
    "if len(g) > 1])['name']"
   ]
  },
  {
   "cell_type": "code",
   "execution_count": 38,
   "metadata": {},
   "outputs": [
    {
     "data": {
      "text/html": [
       "<div>\n",
       "<style scoped>\n",
       "    .dataframe tbody tr th:only-of-type {\n",
       "        vertical-align: middle;\n",
       "    }\n",
       "\n",
       "    .dataframe tbody tr th {\n",
       "        vertical-align: top;\n",
       "    }\n",
       "\n",
       "    .dataframe thead th {\n",
       "        text-align: right;\n",
       "    }\n",
       "</style>\n",
       "<table border=\"1\" class=\"dataframe\">\n",
       "  <thead>\n",
       "    <tr style=\"text-align: right;\">\n",
       "      <th></th>\n",
       "      <th>name</th>\n",
       "      <th>score</th>\n",
       "    </tr>\n",
       "  </thead>\n",
       "  <tbody>\n",
       "    <tr>\n",
       "      <th>1</th>\n",
       "      <td>alice</td>\n",
       "      <td>3</td>\n",
       "    </tr>\n",
       "    <tr>\n",
       "      <th>5</th>\n",
       "      <td>bob</td>\n",
       "      <td>7</td>\n",
       "    </tr>\n",
       "    <tr>\n",
       "      <th>2</th>\n",
       "      <td>bob</td>\n",
       "      <td>5</td>\n",
       "    </tr>\n",
       "    <tr>\n",
       "      <th>4</th>\n",
       "      <td>bob</td>\n",
       "      <td>3</td>\n",
       "    </tr>\n",
       "    <tr>\n",
       "      <th>3</th>\n",
       "      <td>mike</td>\n",
       "      <td>2</td>\n",
       "    </tr>\n",
       "    <tr>\n",
       "      <th>0</th>\n",
       "      <td>zak</td>\n",
       "      <td>4</td>\n",
       "    </tr>\n",
       "  </tbody>\n",
       "</table>\n",
       "</div>"
      ],
      "text/plain": [
       "    name  score\n",
       "1  alice      3\n",
       "5    bob      7\n",
       "2    bob      5\n",
       "4    bob      3\n",
       "3   mike      2\n",
       "0    zak      4"
      ]
     },
     "execution_count": 38,
     "metadata": {},
     "output_type": "execute_result"
    }
   ],
   "source": [
    "df2 = pd.DataFrame(\\\n",
    "{'name':['zak', 'alice', 'bob', 'mike', 'bob', 'bob'],\\\n",
    "'score':[4, 3, 5, 2, 3, 7]})\n",
    "df2.sort_values(['name', 'score'],\\\n",
    "ascending=[1,0])"
   ]
  },
  {
   "cell_type": "code",
   "execution_count": 39,
   "metadata": {},
   "outputs": [
    {
     "data": {
      "text/html": [
       "<div>\n",
       "<style scoped>\n",
       "    .dataframe tbody tr th:only-of-type {\n",
       "        vertical-align: middle;\n",
       "    }\n",
       "\n",
       "    .dataframe tbody tr th {\n",
       "        vertical-align: top;\n",
       "    }\n",
       "\n",
       "    .dataframe thead th {\n",
       "        text-align: right;\n",
       "    }\n",
       "</style>\n",
       "<table border=\"1\" class=\"dataframe\">\n",
       "  <thead>\n",
       "    <tr style=\"text-align: right;\">\n",
       "      <th></th>\n",
       "      <th>name</th>\n",
       "      <th>country</th>\n",
       "      <th>year</th>\n",
       "    </tr>\n",
       "  </thead>\n",
       "  <tbody>\n",
       "    <tr>\n",
       "      <th>121</th>\n",
       "      <td>Aaron Klug</td>\n",
       "      <td>South Africa</td>\n",
       "      <td>1982</td>\n",
       "    </tr>\n",
       "    <tr>\n",
       "      <th>131</th>\n",
       "      <td>Aaron Klug</td>\n",
       "      <td>United Kingdom</td>\n",
       "      <td>1982</td>\n",
       "    </tr>\n",
       "    <tr>\n",
       "      <th>844</th>\n",
       "      <td>Albert Einstein</td>\n",
       "      <td>Germany</td>\n",
       "      <td>1921</td>\n",
       "    </tr>\n",
       "    <tr>\n",
       "      <th>615</th>\n",
       "      <td>Albert Einstein</td>\n",
       "      <td>Switzerland</td>\n",
       "      <td>1921</td>\n",
       "    </tr>\n",
       "    <tr>\n",
       "      <th>176</th>\n",
       "      <td>Arieh Warshel</td>\n",
       "      <td>United States</td>\n",
       "      <td>2013</td>\n",
       "    </tr>\n",
       "    <tr>\n",
       "      <th>...</th>\n",
       "      <td>...</td>\n",
       "      <td>...</td>\n",
       "      <td>...</td>\n",
       "    </tr>\n",
       "    <tr>\n",
       "      <th>294</th>\n",
       "      <td>Tsung-Dao Lee</td>\n",
       "      <td>United States</td>\n",
       "      <td>1957</td>\n",
       "    </tr>\n",
       "    <tr>\n",
       "      <th>333</th>\n",
       "      <td>Wassily Leontief</td>\n",
       "      <td>United States</td>\n",
       "      <td>1973</td>\n",
       "    </tr>\n",
       "    <tr>\n",
       "      <th>684</th>\n",
       "      <td>Wassily Leontief</td>\n",
       "      <td>Russia</td>\n",
       "      <td>1973</td>\n",
       "    </tr>\n",
       "    <tr>\n",
       "      <th>773</th>\n",
       "      <td>Yoichiro Nambu</td>\n",
       "      <td>Japan</td>\n",
       "      <td>2008</td>\n",
       "    </tr>\n",
       "    <tr>\n",
       "      <th>489</th>\n",
       "      <td>Yoichiro Nambu</td>\n",
       "      <td>United States</td>\n",
       "      <td>2008</td>\n",
       "    </tr>\n",
       "  </tbody>\n",
       "</table>\n",
       "<p>92 rows × 3 columns</p>\n",
       "</div>"
      ],
      "text/plain": [
       "                 name         country  year\n",
       "121        Aaron Klug    South Africa  1982\n",
       "131        Aaron Klug  United Kingdom  1982\n",
       "844   Albert Einstein         Germany  1921\n",
       "615   Albert Einstein     Switzerland  1921\n",
       "176     Arieh Warshel   United States  2013\n",
       "..                ...             ...   ...\n",
       "294     Tsung-Dao Lee   United States  1957\n",
       "333  Wassily Leontief   United States  1973\n",
       "684  Wassily Leontief          Russia  1973\n",
       "773    Yoichiro Nambu           Japan  2008\n",
       "489    Yoichiro Nambu   United States  2008\n",
       "\n",
       "[92 rows x 3 columns]"
      ]
     },
     "execution_count": 39,
     "metadata": {},
     "output_type": "execute_result"
    }
   ],
   "source": [
    "all_dupes.sort_values('name')[['name', 'country', 'year']]"
   ]
  },
  {
   "cell_type": "code",
   "execution_count": 40,
   "metadata": {},
   "outputs": [],
   "source": [
    "df.loc[(df.name == u'Marie Sk\\u0142odowska-Curie') &\\\n",
    "(df.year == 1911), 'country'] = 'France'"
   ]
  },
  {
   "cell_type": "code",
   "execution_count": 41,
   "metadata": {},
   "outputs": [],
   "source": [
    "df.drop(df[(df.name == 'Sidney Altman') &\\\n",
    "(df.year == 1990)].index,\n",
    "inplace=True)\n",
    "\n",
    "# df = df[~((df.name == 'Sidney Altman') & (df.year == 1990))] works as well"
   ]
  },
  {
   "cell_type": "code",
   "execution_count": 42,
   "metadata": {},
   "outputs": [],
   "source": [
    "def clean_data(df):\n",
    "    df = df.replace('', np.nan)\n",
    "    df = df[df.born_in.isnull()]\n",
    "    df = df.drop('born_in', axis=1)\n",
    "    df.drop(df[df.year == 1809].index, inplace=True)\n",
    "    df = df[~(df.name == 'Marie Curie')]\n",
    "    df.loc[(df.name == u'Marie Sk\\u0142odowska-Curie') &\\\n",
    "    (df.year == 1911), 'country'] = 'France'\n",
    "    df = df[~((df.name == 'Sidney Altman') &\\\n",
    "    (df.year == 1990))]\n",
    "    return df"
   ]
  },
  {
   "cell_type": "code",
   "execution_count": 43,
   "metadata": {},
   "outputs": [],
   "source": [
    "# Apply our clean_data function to the reloaded dirty data\n",
    "df = reload_data()\n",
    "df = clean_data(df)"
   ]
  },
  {
   "cell_type": "code",
   "execution_count": 44,
   "metadata": {},
   "outputs": [
    {
     "data": {
      "text/plain": [
       "category          864\n",
       "country           865\n",
       "date_of_birth     857\n",
       "date_of_death     566\n",
       "gender            857\n",
       "link              865\n",
       "name              865\n",
       "place_of_birth    831\n",
       "place_of_death    524\n",
       "text              865\n",
       "year              865\n",
       "dtype: int64"
      ]
     },
     "execution_count": 44,
     "metadata": {},
     "output_type": "execute_result"
    }
   ],
   "source": [
    "df = df.reindex(np.random.permutation(df.index))\n",
    "df = df.drop_duplicates(['name', 'year'])\n",
    "df = df.sort_index()\n",
    "df.count()"
   ]
  },
  {
   "cell_type": "code",
   "execution_count": 46,
   "metadata": {
    "scrolled": true
   },
   "outputs": [
    {
     "data": {
      "text/html": [
       "<div>\n",
       "<style scoped>\n",
       "    .dataframe tbody tr th:only-of-type {\n",
       "        vertical-align: middle;\n",
       "    }\n",
       "\n",
       "    .dataframe tbody tr th {\n",
       "        vertical-align: top;\n",
       "    }\n",
       "\n",
       "    .dataframe thead th {\n",
       "        text-align: right;\n",
       "    }\n",
       "</style>\n",
       "<table border=\"1\" class=\"dataframe\">\n",
       "  <thead>\n",
       "    <tr style=\"text-align: right;\">\n",
       "      <th></th>\n",
       "      <th>name</th>\n",
       "      <th>country</th>\n",
       "      <th>year</th>\n",
       "      <th>category</th>\n",
       "    </tr>\n",
       "  </thead>\n",
       "  <tbody>\n",
       "    <tr>\n",
       "      <th>548</th>\n",
       "      <td>Frederick Sanger</td>\n",
       "      <td>United Kingdom</td>\n",
       "      <td>1958</td>\n",
       "      <td>Chemistry</td>\n",
       "    </tr>\n",
       "    <tr>\n",
       "      <th>580</th>\n",
       "      <td>Frederick Sanger</td>\n",
       "      <td>United Kingdom</td>\n",
       "      <td>1980</td>\n",
       "      <td>Chemistry</td>\n",
       "    </tr>\n",
       "    <tr>\n",
       "      <th>292</th>\n",
       "      <td>John Bardeen</td>\n",
       "      <td>United States</td>\n",
       "      <td>1956</td>\n",
       "      <td>Physics</td>\n",
       "    </tr>\n",
       "    <tr>\n",
       "      <th>326</th>\n",
       "      <td>John Bardeen</td>\n",
       "      <td>United States</td>\n",
       "      <td>1972</td>\n",
       "      <td>Physics</td>\n",
       "    </tr>\n",
       "    <tr>\n",
       "      <th>285</th>\n",
       "      <td>Linus C. Pauling</td>\n",
       "      <td>United States</td>\n",
       "      <td>1954</td>\n",
       "      <td>Chemistry</td>\n",
       "    </tr>\n",
       "    <tr>\n",
       "      <th>309</th>\n",
       "      <td>Linus C. Pauling</td>\n",
       "      <td>United States</td>\n",
       "      <td>1962</td>\n",
       "      <td>Peace</td>\n",
       "    </tr>\n",
       "    <tr>\n",
       "      <th>706</th>\n",
       "      <td>Marie Skłodowska-Curie</td>\n",
       "      <td>Poland</td>\n",
       "      <td>1903</td>\n",
       "      <td>Physics</td>\n",
       "    </tr>\n",
       "    <tr>\n",
       "      <th>709</th>\n",
       "      <td>Marie Skłodowska-Curie</td>\n",
       "      <td>France</td>\n",
       "      <td>1911</td>\n",
       "      <td>Chemistry</td>\n",
       "    </tr>\n",
       "  </tbody>\n",
       "</table>\n",
       "</div>"
      ],
      "text/plain": [
       "                       name         country  year   category\n",
       "548        Frederick Sanger  United Kingdom  1958  Chemistry\n",
       "580        Frederick Sanger  United Kingdom  1980  Chemistry\n",
       "292            John Bardeen   United States  1956    Physics\n",
       "326            John Bardeen   United States  1972    Physics\n",
       "285        Linus C. Pauling   United States  1954  Chemistry\n",
       "309        Linus C. Pauling   United States  1962      Peace\n",
       "706  Marie Skłodowska-Curie          Poland  1903    Physics\n",
       "709  Marie Skłodowska-Curie          France  1911  Chemistry"
      ]
     },
     "execution_count": 46,
     "metadata": {},
     "output_type": "execute_result"
    }
   ],
   "source": [
    "df[df.duplicated('name') |\n",
    "df.duplicated('name', keep='last')]\\\n",
    ".sort_values(by='name')\\\n",
    "[['name', 'country', 'year', 'category']]"
   ]
  },
  {
   "cell_type": "code",
   "execution_count": 47,
   "metadata": {},
   "outputs": [
    {
     "data": {
      "text/plain": [
       "category          864\n",
       "country           865\n",
       "date_of_birth     857\n",
       "date_of_death     566\n",
       "gender            857\n",
       "link              865\n",
       "name              865\n",
       "place_of_birth    831\n",
       "place_of_death    524\n",
       "text              865\n",
       "year              865\n",
       "dtype: int64"
      ]
     },
     "execution_count": 47,
     "metadata": {},
     "output_type": "execute_result"
    }
   ],
   "source": [
    "df.count()"
   ]
  },
  {
   "cell_type": "code",
   "execution_count": 48,
   "metadata": {},
   "outputs": [
    {
     "data": {
      "text/html": [
       "<div>\n",
       "<style scoped>\n",
       "    .dataframe tbody tr th:only-of-type {\n",
       "        vertical-align: middle;\n",
       "    }\n",
       "\n",
       "    .dataframe tbody tr th {\n",
       "        vertical-align: top;\n",
       "    }\n",
       "\n",
       "    .dataframe thead th {\n",
       "        text-align: right;\n",
       "    }\n",
       "</style>\n",
       "<table border=\"1\" class=\"dataframe\">\n",
       "  <thead>\n",
       "    <tr style=\"text-align: right;\">\n",
       "      <th></th>\n",
       "      <th>name</th>\n",
       "      <th>text</th>\n",
       "    </tr>\n",
       "  </thead>\n",
       "  <tbody>\n",
       "    <tr>\n",
       "      <th>922</th>\n",
       "      <td>Alexis Carrel</td>\n",
       "      <td>Alexis Carrel , Medicine, 1912</td>\n",
       "    </tr>\n",
       "  </tbody>\n",
       "</table>\n",
       "</div>"
      ],
      "text/plain": [
       "              name                            text\n",
       "922  Alexis Carrel  Alexis Carrel , Medicine, 1912"
      ]
     },
     "execution_count": 48,
     "metadata": {},
     "output_type": "execute_result"
    }
   ],
   "source": [
    "df[df.category.isnull()][['name', 'text']]"
   ]
  },
  {
   "cell_type": "code",
   "execution_count": 53,
   "metadata": {},
   "outputs": [
    {
     "data": {
      "text/plain": [
       "3                         Institut de Droit International\n",
       "156                               Friends Service Council\n",
       "267     American Friends Service Committee  (The Quakers)\n",
       "574                                 Amnesty International\n",
       "650                                         Ragnar Granit\n",
       "947                              Médecins Sans Frontières\n",
       "1000     Pugwash Conferences on Science and World Affairs\n",
       "1033                   International Atomic Energy Agency\n",
       "Name: name, dtype: object"
      ]
     },
     "execution_count": 53,
     "metadata": {},
     "output_type": "execute_result"
    }
   ],
   "source": [
    "df[df.gender.isnull()]['name']"
   ]
  },
  {
   "cell_type": "code",
   "execution_count": 59,
   "metadata": {},
   "outputs": [],
   "source": [
    "df = df[df.gender.notnull()]\n",
    "df.loc[df.name == 'Ragnar Granit', 'gender'] = 'male'"
   ]
  },
  {
   "cell_type": "code",
   "execution_count": 60,
   "metadata": {},
   "outputs": [
    {
     "data": {
      "text/plain": [
       "782    Hiroshi Amano\n",
       "Name: name, dtype: object"
      ]
     },
     "execution_count": 60,
     "metadata": {},
     "output_type": "execute_result"
    }
   ],
   "source": [
    "df[df.date_of_birth.isnull()]['name']"
   ]
  },
  {
   "cell_type": "code",
   "execution_count": 61,
   "metadata": {},
   "outputs": [],
   "source": [
    "df.loc[df.name == 'Hiroshi Amano', 'date_of_birth'] =\\\n",
    "'11 September 1960'"
   ]
  },
  {
   "cell_type": "code",
   "execution_count": 62,
   "metadata": {},
   "outputs": [
    {
     "data": {
      "text/html": [
       "<div>\n",
       "<style scoped>\n",
       "    .dataframe tbody tr th:only-of-type {\n",
       "        vertical-align: middle;\n",
       "    }\n",
       "\n",
       "    .dataframe tbody tr th {\n",
       "        vertical-align: top;\n",
       "    }\n",
       "\n",
       "    .dataframe thead th {\n",
       "        text-align: right;\n",
       "    }\n",
       "</style>\n",
       "<table border=\"1\" class=\"dataframe\">\n",
       "  <thead>\n",
       "    <tr style=\"text-align: right;\">\n",
       "      <th></th>\n",
       "      <th>name</th>\n",
       "      <th>date_of_birth</th>\n",
       "    </tr>\n",
       "  </thead>\n",
       "  <tbody>\n",
       "    <tr>\n",
       "      <th>0</th>\n",
       "      <td>César Milstein</td>\n",
       "      <td>8 October 1927</td>\n",
       "    </tr>\n",
       "    <tr>\n",
       "      <th>4</th>\n",
       "      <td>Auguste Beernaert</td>\n",
       "      <td>26 July 1829</td>\n",
       "    </tr>\n",
       "    <tr>\n",
       "      <th>5</th>\n",
       "      <td>Maurice Maeterlinck</td>\n",
       "      <td>29 August 1862</td>\n",
       "    </tr>\n",
       "    <tr>\n",
       "      <th>6</th>\n",
       "      <td>Henri La Fontaine</td>\n",
       "      <td>22 April 1854</td>\n",
       "    </tr>\n",
       "    <tr>\n",
       "      <th>7</th>\n",
       "      <td>Jules Bordet</td>\n",
       "      <td>13 June 1870</td>\n",
       "    </tr>\n",
       "    <tr>\n",
       "      <th>...</th>\n",
       "      <td>...</td>\n",
       "      <td>...</td>\n",
       "    </tr>\n",
       "    <tr>\n",
       "      <th>1047</th>\n",
       "      <td>Brian P. Schmidt</td>\n",
       "      <td>February 24, 1967</td>\n",
       "    </tr>\n",
       "    <tr>\n",
       "      <th>1048</th>\n",
       "      <td>Carlos Saavedra Lamas</td>\n",
       "      <td>November 1, 1878</td>\n",
       "    </tr>\n",
       "    <tr>\n",
       "      <th>1049</th>\n",
       "      <td>Bernardo Houssay</td>\n",
       "      <td>1887-04-10</td>\n",
       "    </tr>\n",
       "    <tr>\n",
       "      <th>1050</th>\n",
       "      <td>Luis Federico Leloir</td>\n",
       "      <td>1906-9-6</td>\n",
       "    </tr>\n",
       "    <tr>\n",
       "      <th>1051</th>\n",
       "      <td>Adolfo Pérez Esquivel</td>\n",
       "      <td>November 26, 1931</td>\n",
       "    </tr>\n",
       "  </tbody>\n",
       "</table>\n",
       "<p>857 rows × 2 columns</p>\n",
       "</div>"
      ],
      "text/plain": [
       "                       name      date_of_birth\n",
       "0            César Milstein     8 October 1927\n",
       "4         Auguste Beernaert       26 July 1829\n",
       "5       Maurice Maeterlinck     29 August 1862\n",
       "6         Henri La Fontaine      22 April 1854\n",
       "7              Jules Bordet       13 June 1870\n",
       "...                     ...                ...\n",
       "1047       Brian P. Schmidt  February 24, 1967\n",
       "1048  Carlos Saavedra Lamas   November 1, 1878\n",
       "1049       Bernardo Houssay         1887-04-10\n",
       "1050   Luis Federico Leloir           1906-9-6\n",
       "1051  Adolfo Pérez Esquivel  November 26, 1931\n",
       "\n",
       "[857 rows x 2 columns]"
      ]
     },
     "execution_count": 62,
     "metadata": {},
     "output_type": "execute_result"
    }
   ],
   "source": [
    "# Note that the example in the book uses the original DataFrame, not our newly cleaned one, used here\n",
    "# Row 2 (Vladamir Prelog) is therefore missing\n",
    "df[['name', 'date_of_birth']]"
   ]
  },
  {
   "cell_type": "code",
   "execution_count": 105,
   "metadata": {},
   "outputs": [
    {
     "data": {
      "text/plain": [
       "0               1927-10-08\n",
       "4      1829-07-26 00:00:00\n",
       "5      1862-08-29 00:00:00\n",
       "6      1854-04-22 00:00:00\n",
       "7      1870-06-13 00:00:00\n",
       "8      1892-03-28 00:00:00\n",
       "9               1910-02-10\n",
       "10     1899-08-24 00:00:00\n",
       "11              1917-10-02\n",
       "12              1917-01-25\n",
       "13              1932-11-06\n",
       "17     1857-06-02 00:00:00\n",
       "18     1874-11-15 00:00:00\n",
       "19     1885-10-07 00:00:00\n",
       "20     1867-04-23 00:00:00\n",
       "21     1895-02-21 00:00:00\n",
       "22     1873-01-20 00:00:00\n",
       "23              1926-07-09\n",
       "24              1922-06-19\n",
       "25              1911-12-23\n",
       "26              1918-10-08\n",
       "30     1890-12-20 00:00:00\n",
       "31              1901-09-23\n",
       "32              1948-02-20\n",
       "33     1897-09-12 00:00:00\n",
       "34              1900-03-19\n",
       "35     1881-03-23 00:00:00\n",
       "36     1869-11-22 00:00:00\n",
       "37     1879-07-01 00:00:00\n",
       "38     1875-01-14 00:00:00\n",
       "               ...        \n",
       "1011            1940-06-28\n",
       "1012            1908-01-22\n",
       "1013   1862-06-07 00:00:00\n",
       "1014   1843-06-09 00:00:00\n",
       "1015   1864-11-11 00:00:00\n",
       "1016   1876-04-22 00:00:00\n",
       "1017   1869-09-03 00:00:00\n",
       "1018   1865-04-01 00:00:00\n",
       "1019   1857-03-07 00:00:00\n",
       "1020   1868-06-14 00:00:00\n",
       "1021   1887-08-12 00:00:00\n",
       "1022   1883-06-24 00:00:00\n",
       "1025            1900-04-25\n",
       "1026            1914-05-19\n",
       "1028            1903-11-07\n",
       "1029   1899-05-08 00:00:00\n",
       "1032            1946-10-20\n",
       "1036   1898-09-24 00:00:00\n",
       "1037   1899-09-03 00:00:00\n",
       "1038            1903-01-27\n",
       "1040            1912-05-28\n",
       "1042            1920-05-29\n",
       "1043            1940-10-15\n",
       "1044            1937-06-11\n",
       "1045            1951-09-30\n",
       "1047            1967-02-24\n",
       "1048   1878-11-01 00:00:00\n",
       "1049   1887-04-10 00:00:00\n",
       "1050            1906-09-06\n",
       "1051            1931-11-26\n",
       "Name: date_of_birth, dtype: datetime64[ns]"
      ]
     },
     "execution_count": 105,
     "metadata": {},
     "output_type": "execute_result"
    }
   ],
   "source": [
    "pd.to_datetime(df.date_of_birth, errors='raise')"
   ]
  },
  {
   "cell_type": "code",
   "execution_count": 64,
   "metadata": {},
   "outputs": [
    {
     "data": {
      "text/plain": [
       "0        24 March 2002\n",
       "4       6 October 1912\n",
       "5           6 May 1949\n",
       "6          14 May 1943\n",
       "7         6 April 1961\n",
       "             ...      \n",
       "1047               NaN\n",
       "1048       May 5, 1959\n",
       "1049        1971-09-21\n",
       "1050         1987-12-2\n",
       "1051               NaN\n",
       "Name: date_of_death, Length: 857, dtype: object"
      ]
     },
     "execution_count": 64,
     "metadata": {},
     "output_type": "execute_result"
    }
   ],
   "source": [
    "pd.to_datetime(df.date_of_death, errors='ignore')"
   ]
  },
  {
   "cell_type": "code",
   "execution_count": 65,
   "metadata": {},
   "outputs": [
    {
     "data": {
      "text/html": [
       "<div>\n",
       "<style scoped>\n",
       "    .dataframe tbody tr th:only-of-type {\n",
       "        vertical-align: middle;\n",
       "    }\n",
       "\n",
       "    .dataframe tbody tr th {\n",
       "        vertical-align: top;\n",
       "    }\n",
       "\n",
       "    .dataframe thead th {\n",
       "        text-align: right;\n",
       "    }\n",
       "</style>\n",
       "<table border=\"1\" class=\"dataframe\">\n",
       "  <thead>\n",
       "    <tr style=\"text-align: right;\">\n",
       "      <th></th>\n",
       "      <th>category</th>\n",
       "      <th>date_of_death</th>\n",
       "      <th>name</th>\n",
       "    </tr>\n",
       "  </thead>\n",
       "  <tbody>\n",
       "    <tr>\n",
       "      <th>150</th>\n",
       "      <td>Physiology or Medicine</td>\n",
       "      <td>1968-23-07</td>\n",
       "      <td>Henry Hallett Dale</td>\n",
       "    </tr>\n",
       "    <tr>\n",
       "      <th>349</th>\n",
       "      <td>Physiology or Medicine</td>\n",
       "      <td>May 30, 2011 (aged 89)</td>\n",
       "      <td>Rosalyn Yalow</td>\n",
       "    </tr>\n",
       "    <tr>\n",
       "      <th>581</th>\n",
       "      <td>Peace</td>\n",
       "      <td>living</td>\n",
       "      <td>David Trimble</td>\n",
       "    </tr>\n",
       "    <tr>\n",
       "      <th>746</th>\n",
       "      <td>Physics</td>\n",
       "      <td>Diederik Korteweg</td>\n",
       "      <td>Johannes Diderik van der Waals</td>\n",
       "    </tr>\n",
       "    <tr>\n",
       "      <th>809</th>\n",
       "      <td>Peace</td>\n",
       "      <td>living</td>\n",
       "      <td>Shirin Ebadi</td>\n",
       "    </tr>\n",
       "    <tr>\n",
       "      <th>833</th>\n",
       "      <td>Peace</td>\n",
       "      <td>living</td>\n",
       "      <td>Rigoberta Menchú</td>\n",
       "    </tr>\n",
       "    <tr>\n",
       "      <th>858</th>\n",
       "      <td>Physics</td>\n",
       "      <td>1 February 1976, age 74</td>\n",
       "      <td>Werner Karl Heisenberg</td>\n",
       "    </tr>\n",
       "  </tbody>\n",
       "</table>\n",
       "</div>"
      ],
      "text/plain": [
       "                   category            date_of_death  \\\n",
       "150  Physiology or Medicine               1968-23-07   \n",
       "349  Physiology or Medicine   May 30, 2011 (aged 89)   \n",
       "581                   Peace                   living   \n",
       "746                 Physics        Diederik Korteweg   \n",
       "809                   Peace                   living   \n",
       "833                   Peace                   living   \n",
       "858                 Physics  1 February 1976, age 74   \n",
       "\n",
       "                               name  \n",
       "150              Henry Hallett Dale  \n",
       "349                   Rosalyn Yalow  \n",
       "581                   David Trimble  \n",
       "746  Johannes Diderik van der Waals  \n",
       "809                    Shirin Ebadi  \n",
       "833                Rigoberta Menchú  \n",
       "858          Werner Karl Heisenberg  "
      ]
     },
     "execution_count": 65,
     "metadata": {},
     "output_type": "execute_result"
    }
   ],
   "source": [
    "with_death_dates = df[df.date_of_death.notnull()]\n",
    "bad_dates = pd.isnull(pd.to_datetime(\\\n",
    "with_death_dates.date_of_death, errors='coerce'))\n",
    "with_death_dates[bad_dates][['category', 'date_of_death',\\\n",
    "'name']]"
   ]
  },
  {
   "cell_type": "code",
   "execution_count": 66,
   "metadata": {},
   "outputs": [],
   "source": [
    "df.date_of_death = pd.to_datetime(df.date_of_death,\\\n",
    "errors='coerce')"
   ]
  },
  {
   "cell_type": "code",
   "execution_count": 67,
   "metadata": {},
   "outputs": [],
   "source": [
    "df['award_age'] = df.year - pd.DatetimeIndex(df.date_of_birth)\\\n",
    ".year"
   ]
  },
  {
   "cell_type": "code",
   "execution_count": 68,
   "metadata": {},
   "outputs": [
    {
     "data": {
      "text/html": [
       "<div>\n",
       "<style scoped>\n",
       "    .dataframe tbody tr th:only-of-type {\n",
       "        vertical-align: middle;\n",
       "    }\n",
       "\n",
       "    .dataframe tbody tr th {\n",
       "        vertical-align: top;\n",
       "    }\n",
       "\n",
       "    .dataframe thead th {\n",
       "        text-align: right;\n",
       "    }\n",
       "</style>\n",
       "<table border=\"1\" class=\"dataframe\">\n",
       "  <thead>\n",
       "    <tr style=\"text-align: right;\">\n",
       "      <th></th>\n",
       "      <th>name</th>\n",
       "      <th>award_age</th>\n",
       "      <th>category</th>\n",
       "      <th>year</th>\n",
       "    </tr>\n",
       "  </thead>\n",
       "  <tbody>\n",
       "    <tr>\n",
       "      <th>725</th>\n",
       "      <td>Malala Yousafzai</td>\n",
       "      <td>17</td>\n",
       "      <td>Peace</td>\n",
       "      <td>2014</td>\n",
       "    </tr>\n",
       "    <tr>\n",
       "      <th>525</th>\n",
       "      <td>William Lawrence Bragg</td>\n",
       "      <td>25</td>\n",
       "      <td>Physics</td>\n",
       "      <td>1915</td>\n",
       "    </tr>\n",
       "    <tr>\n",
       "      <th>626</th>\n",
       "      <td>Georges J. F. Köhler</td>\n",
       "      <td>30</td>\n",
       "      <td>Physiology or Medicine</td>\n",
       "      <td>1976</td>\n",
       "    </tr>\n",
       "    <tr>\n",
       "      <th>858</th>\n",
       "      <td>Werner Karl Heisenberg</td>\n",
       "      <td>31</td>\n",
       "      <td>Physics</td>\n",
       "      <td>1932</td>\n",
       "    </tr>\n",
       "    <tr>\n",
       "      <th>975</th>\n",
       "      <td>Tsung-Dao Lee</td>\n",
       "      <td>31</td>\n",
       "      <td>Physics</td>\n",
       "      <td>1957</td>\n",
       "    </tr>\n",
       "    <tr>\n",
       "      <th>146</th>\n",
       "      <td>Paul Dirac</td>\n",
       "      <td>31</td>\n",
       "      <td>Physics</td>\n",
       "      <td>1933</td>\n",
       "    </tr>\n",
       "    <tr>\n",
       "      <th>247</th>\n",
       "      <td>Carl Anderson</td>\n",
       "      <td>31</td>\n",
       "      <td>Physics</td>\n",
       "      <td>1936</td>\n",
       "    </tr>\n",
       "    <tr>\n",
       "      <th>877</th>\n",
       "      <td>Rudolf Mössbauer</td>\n",
       "      <td>32</td>\n",
       "      <td>Physics</td>\n",
       "      <td>1961</td>\n",
       "    </tr>\n",
       "    <tr>\n",
       "      <th>226</th>\n",
       "      <td>Tawakkol Karman</td>\n",
       "      <td>32</td>\n",
       "      <td>Peace</td>\n",
       "      <td>2011</td>\n",
       "    </tr>\n",
       "    <tr>\n",
       "      <th>804</th>\n",
       "      <td>Mairéad Corrigan</td>\n",
       "      <td>32</td>\n",
       "      <td>Peace</td>\n",
       "      <td>1976</td>\n",
       "    </tr>\n",
       "  </tbody>\n",
       "</table>\n",
       "</div>"
      ],
      "text/plain": [
       "                       name  award_age                category  year\n",
       "725        Malala Yousafzai         17                   Peace  2014\n",
       "525  William Lawrence Bragg         25                 Physics  1915\n",
       "626    Georges J. F. Köhler         30  Physiology or Medicine  1976\n",
       "858  Werner Karl Heisenberg         31                 Physics  1932\n",
       "975           Tsung-Dao Lee         31                 Physics  1957\n",
       "146              Paul Dirac         31                 Physics  1933\n",
       "247           Carl Anderson         31                 Physics  1936\n",
       "877        Rudolf Mössbauer         32                 Physics  1961\n",
       "226         Tawakkol Karman         32                   Peace  2011\n",
       "804        Mairéad Corrigan         32                   Peace  1976"
      ]
     },
     "execution_count": 68,
     "metadata": {},
     "output_type": "execute_result"
    }
   ],
   "source": [
    "df.sort_values('award_age').iloc[:10]\\\n",
    "[['name', 'award_age', 'category', 'year']]"
   ]
  },
  {
   "cell_type": "code",
   "execution_count": 69,
   "metadata": {},
   "outputs": [],
   "source": [
    "def clean_data(df):\n",
    "    \"\"\"The full clean data function, which returns both the cleaned Nobel data (df) and a DataFrame \n",
    "    containing those winners with a born_in field.\"\"\"\n",
    "    df = df.replace('', np.nan)\n",
    "    df_born_in = df[df.born_in.notnull()] \n",
    "    df = df[df.born_in.isnull()]\n",
    "    df = df.drop('born_in', axis=1) \n",
    "    df.drop(df[df.year == 1809].index, inplace=True) \n",
    "    df = df[~(df.name == 'Marie Curie')]\n",
    "    df.loc[(df.name == u'Marie Sk\\u0142odowska-Curie') &\\\n",
    "           (df.year == 1911), 'country'] = 'France'\n",
    "    df = df[~((df.name == 'Sidney Altman') & (df.year == 1990))]\n",
    "    df = df.reindex(np.random.permutation(df.index)) \n",
    "    df = df.drop_duplicates(['name', 'year'])         \n",
    "    df = df.sort_index()\n",
    "    df.ix[df.name == 'Alexis Carrel', 'category'] =\\\n",
    "        'Physiology or Medicine' \n",
    "    df.ix[df.name == 'Ragnar Granit', 'gender'] = 'male'\n",
    "    df = df[df.gender.notnull()] # remove institutional prizes\n",
    "    df.ix[df.name == 'Hiroshi Amano', 'date_of_birth'] =\\\n",
    "    '11 September 1960'\n",
    "    df.date_of_birth = pd.to_datetime(df.date_of_birth) \n",
    "    df.date_of_death = pd.to_datetime(df.date_of_death, errors='coerce') \n",
    "    df['award_age'] = df.year - pd.DatetimeIndex(df.date_of_birth).year \n",
    "    return df, df_born_in"
   ]
  },
  {
   "cell_type": "code",
   "execution_count": 72,
   "metadata": {},
   "outputs": [],
   "source": [
    "df.head(5)\n",
    "import json"
   ]
  },
  {
   "cell_type": "code",
   "execution_count": 74,
   "metadata": {},
   "outputs": [],
   "source": [
    "df.to_json('nobel_winners_dirty_my.json', orient='records', date_format='iso')"
   ]
  },
  {
   "cell_type": "code",
   "execution_count": 29,
   "metadata": {
    "collapsed": true
   },
   "outputs": [
    {
     "data": {
      "text/plain": [
       "<pymongo.results.InsertManyResult at 0x7f28b26f00f0>"
      ]
     },
     "execution_count": 29,
     "metadata": {},
     "output_type": "execute_result"
    }
   ],
   "source": [
    "from pymongo import MongoClient\n",
    "import json\n",
    "\n",
    "db = MongoClient()['nobel_prize']\n",
    "db.winners_clean.drop()\n",
    "db.winners_clean.insert_many(json.loads(df.to_json(orient='records', date_format='iso')))"
   ]
  },
  {
   "cell_type": "code",
   "execution_count": 30,
   "metadata": {
    "collapsed": true
   },
   "outputs": [
    {
     "data": {
      "text/plain": [
       "<pymongo.results.InsertManyResult at 0x7f28b26be230>"
      ]
     },
     "execution_count": 30,
     "metadata": {},
     "output_type": "execute_result"
    }
   ],
   "source": [
    "from pymongo import MongoClient\n",
    "import json\n",
    "\n",
    "db = MongoClient()['nobel_prize']\n",
    "db.winners.drop()\n",
    "db.winners.insert_many(json.loads(df.to_json(orient='records', date_format='iso')))"
   ]
  },
  {
   "cell_type": "code",
   "execution_count": 48,
   "metadata": {},
   "outputs": [
    {
     "data": {
      "text/plain": [
       "<pymongo.results.InsertManyResult at 0x7f28b129bd20>"
      ]
     },
     "execution_count": 48,
     "metadata": {},
     "output_type": "execute_result"
    }
   ],
   "source": [
    "from pymongo import MongoClient\n",
    "import json\n",
    "\n",
    "db = MongoClient()['nobel_prize']\n",
    "db.winners_full.drop()\n",
    "db.winners_full.insert_many(json.loads(df_winners_all.to_json(orient='records', date_format='iso')))"
   ]
  },
  {
   "cell_type": "code",
   "execution_count": 8,
   "metadata": {},
   "outputs": [],
   "source": [
    "df.to_json('data/book_data/nobel_winners_cleaned.json', orient='records', date_format='iso')"
   ]
  },
  {
   "cell_type": "code",
   "execution_count": 50,
   "metadata": {},
   "outputs": [
    {
     "data": {
      "text/html": [
       "<div>\n",
       "<table border=\"1\" class=\"dataframe\">\n",
       "  <thead>\n",
       "    <tr style=\"text-align: right;\">\n",
       "      <th></th>\n",
       "      <th>category</th>\n",
       "      <th>country</th>\n",
       "      <th>date_of_birth</th>\n",
       "      <th>date_of_death</th>\n",
       "      <th>gender</th>\n",
       "      <th>link</th>\n",
       "      <th>name</th>\n",
       "      <th>place_of_birth</th>\n",
       "      <th>place_of_death</th>\n",
       "      <th>text</th>\n",
       "      <th>year</th>\n",
       "      <th>award_age</th>\n",
       "      <th>bio_image</th>\n",
       "      <th>image_urls</th>\n",
       "      <th>mini_bio</th>\n",
       "    </tr>\n",
       "  </thead>\n",
       "  <tbody>\n",
       "    <tr>\n",
       "      <th>835</th>\n",
       "      <td>Physics</td>\n",
       "      <td>Hong Kong</td>\n",
       "      <td>1933-11-04</td>\n",
       "      <td>NaT</td>\n",
       "      <td>male</td>\n",
       "      <td>http://en.wikipedia.org/wiki/Charles_K._Kao</td>\n",
       "      <td>Charles K. Kao</td>\n",
       "      <td>Shanghai, China</td>\n",
       "      <td>NaN</td>\n",
       "      <td>Charles K. Kao , Physics, 2009</td>\n",
       "      <td>2009</td>\n",
       "      <td>76</td>\n",
       "      <td>full/a7281d9a4317225716ec31c88c6e16b798042054.jpg</td>\n",
       "      <td>[http://upload.wikimedia.org/wikipedia/commons...</td>\n",
       "      <td>&lt;p&gt;&lt;b&gt;The Honourable Sir Charles Kuen Kao&lt;/b&gt;,...</td>\n",
       "    </tr>\n",
       "  </tbody>\n",
       "</table>\n",
       "</div>"
      ],
      "text/plain": [
       "    category    country date_of_birth date_of_death gender  \\\n",
       "835  Physics  Hong Kong    1933-11-04           NaT   male   \n",
       "\n",
       "                                            link            name  \\\n",
       "835  http://en.wikipedia.org/wiki/Charles_K._Kao  Charles K. Kao   \n",
       "\n",
       "      place_of_birth place_of_death                            text  year  \\\n",
       "835  Shanghai, China            NaN  Charles K. Kao , Physics, 2009  2009   \n",
       "\n",
       "     award_age                                          bio_image  \\\n",
       "835         76  full/a7281d9a4317225716ec31c88c6e16b798042054.jpg   \n",
       "\n",
       "                                            image_urls  \\\n",
       "835  [http://upload.wikimedia.org/wikipedia/commons...   \n",
       "\n",
       "                                              mini_bio  \n",
       "835  <p><b>The Honourable Sir Charles Kuen Kao</b>,...  "
      ]
     },
     "execution_count": 50,
     "metadata": {},
     "output_type": "execute_result"
    }
   ],
   "source": [
    "df_winners_all[df_winners_all['country'] == 'Hong Kong']"
   ]
  },
  {
   "cell_type": "code",
   "execution_count": null,
   "metadata": {
    "collapsed": true
   },
   "outputs": [],
   "source": []
  },
  {
   "cell_type": "code",
   "execution_count": 38,
   "metadata": {
    "collapsed": true
   },
   "outputs": [],
   "source": [
    "import sqlalchemy\n",
    "\n",
    "engine = sqlalchemy.create_engine('sqlite:///data/nobel_prize.db') \n",
    "#df = pd.read_sql('nobel_winners', engine) \n",
    "df.to_sql('winners', engine)"
   ]
  },
  {
   "cell_type": "code",
   "execution_count": 33,
   "metadata": {
    "collapsed": true
   },
   "outputs": [],
   "source": [
    "import dataset"
   ]
  },
  {
   "cell_type": "code",
   "execution_count": 34,
   "metadata": {},
   "outputs": [],
   "source": [
    "db = dataset.connect('sqlite:///data/nobel_prize.db')"
   ]
  }
 ],
 "metadata": {
  "kernelspec": {
   "display_name": "Python 3",
   "language": "python",
   "name": "python3"
  },
  "language_info": {
   "codemirror_mode": {
    "name": "ipython",
    "version": 3
   },
   "file_extension": ".py",
   "mimetype": "text/x-python",
   "name": "python",
   "nbconvert_exporter": "python",
   "pygments_lexer": "ipython3",
   "version": "3.8.8"
  }
 },
 "nbformat": 4,
 "nbformat_minor": 1
}
